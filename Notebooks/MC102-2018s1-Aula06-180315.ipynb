{
 "cells": [
  {
   "cell_type": "markdown",
   "metadata": {
    "slideshow": {
     "slide_type": "slide"
    }
   },
   "source": [
    "# Iteração"
   ]
  },
  {
   "cell_type": "markdown",
   "metadata": {
    "slideshow": {
     "slide_type": "fragment"
    }
   },
   "source": [
    "Os recursos de programação que vimos até agora não nos habilitam a resolver qualquer classe de problemas.\n",
    "\n",
    "Imagine, por exemplo, um programa que deva ler um inteiro positivo e depois imprimir essa quantidade de Xs."
   ]
  },
  {
   "cell_type": "markdown",
   "metadata": {
    "slideshow": {
     "slide_type": "subslide"
    }
   },
   "source": [
    "Para resolver esse problema, poderíamos pensar em algo como...\n",
    "```python\n",
    "numXs = int(input(\"Quantos Xs? \"))\n",
    "if numXs == 1:\n",
    "   print(\"X\")\n",
    "elif numXs == 2:\n",
    "   print(\"XX\")\n",
    "elif numXs == 3:\n",
    "   print(\"XXX\")\n",
    "...\n",
    "```"
   ]
  },
  {
   "cell_type": "markdown",
   "metadata": {
    "slideshow": {
     "slide_type": "fragment"
    }
   },
   "source": [
    "Isso funciona?"
   ]
  },
  {
   "cell_type": "markdown",
   "metadata": {
    "slideshow": {
     "slide_type": "subslide"
    }
   },
   "source": [
    "Quantos testes serão necessários?  \n",
    "O que fazer para adivinhar a resposta do usuário?"
   ]
  },
  {
   "cell_type": "markdown",
   "metadata": {
    "slideshow": {
     "slide_type": "subslide"
    }
   },
   "source": [
    "E se nossa solução fosse esta?"
   ]
  },
  {
   "cell_type": "code",
   "execution_count": 17,
   "metadata": {},
   "outputs": [
    {
     "name": "stdout",
     "output_type": "stream",
     "text": [
      "1\n",
      "2\n"
     ]
    }
   ],
   "source": [
    "print(1, end='\\n')\n",
    "print(2)"
   ]
  },
  {
   "cell_type": "markdown",
   "metadata": {
    "slideshow": {
     "slide_type": "fragment"
    }
   },
   "source": [
    "```python\n",
    "numXs = int(input(\"Quantos Xs? \"))\n",
    "ainda_faltam = numXs\n",
    "if ainda_faltam > 0:\n",
    "   print(\"X\", end='')\n",
    "   ainda_faltam -= 1\n",
    "if ainda_faltam > 0:\n",
    "   print(\"X\", end='')\n",
    "   ainda_faltam -= 1\n",
    "if ...\n",
    "```"
   ]
  },
  {
   "cell_type": "markdown",
   "metadata": {
    "slideshow": {
     "slide_type": "subslide"
    }
   },
   "source": [
    "E se fosse esta outra?"
   ]
  },
  {
   "cell_type": "markdown",
   "metadata": {
    "slideshow": {
     "slide_type": "fragment"
    }
   },
   "source": [
    "```python\n",
    "numXs = int(input(\"Quantos Xs? \"))\n",
    "ja_fiz = 0\n",
    "if ja_fiz < numXs:\n",
    "   print(\"X\")\n",
    "   ja_fiz += 1\n",
    "elif ja_fiz < numXs:\n",
    "   print(\"X\")\n",
    "   ja_fiz += 1\n",
    "elif ...\n",
    "```"
   ]
  },
  {
   "cell_type": "markdown",
   "metadata": {
    "slideshow": {
     "slide_type": "subslide"
    }
   },
   "source": [
    "A diferença, nesses dois últimos casos, é que um mesmo conjunto de comandos foi usado repetidas vezes.\n",
    "\n",
    "Nesses dois casos, `ainda_faltam` e `ja_fiz` são chamadas *variáveis contadoras* — variáveis auxiliares cujos valores vão sendo incrementados ou decrementados passo a passo até que satisfaçam uma dada condição.\n",
    "\n",
    "Uma vez satisfeita essa condição, nenhum outro `if` consegue ser executado."
   ]
  },
  {
   "cell_type": "markdown",
   "metadata": {
    "slideshow": {
     "slide_type": "subslide"
    }
   },
   "source": [
    "O problema, no entanto, permanece.\n",
    "\n",
    "Quantos `if`s são necessários?"
   ]
  },
  {
   "cell_type": "markdown",
   "metadata": {
    "slideshow": {
     "slide_type": "subslide"
    }
   },
   "source": [
    "A execução repetida de um conjunto de comandos é chamada *iteração* e é implementada por comandos específicos em todas as linguagens de alto nível.\n",
    "\n",
    "Python, em particular, oferece duas estruturas, que serão examinadas em seguida."
   ]
  },
  {
   "cell_type": "markdown",
   "metadata": {
    "slideshow": {
     "slide_type": "slide"
    }
   },
   "source": [
    "## O comando `while`"
   ]
  },
  {
   "cell_type": "markdown",
   "metadata": {
    "slideshow": {
     "slide_type": "fragment"
    }
   },
   "source": [
    "Um comando `while` executa repetidamente uma *suite* de comandos **enquanto** uma dada *condição* for verdadeira e tem a seguinte estrutura básica...\n",
    "```python\n",
    "while condição:\n",
    "    suite\n",
    "```\n",
    "\n",
    "Um comando `while` começa avaliando a *condição*. \n",
    "- Se a *condição* for considerada `False`, o `while` termina sem qualquer efeito e o controle passa para o próximo comando na sequência.\n",
    "- Se a *condição* for considerada `True`, a *suite* é executada, após o que a *condição* é reavaliada e o processo se repete. "
   ]
  },
  {
   "cell_type": "markdown",
   "metadata": {
    "slideshow": {
     "slide_type": "subslide"
    }
   },
   "source": [
    "Examinando a estrutura típica de um `while`...\n",
    "```python\n",
    "while condição:\n",
    "    suite\n",
    "```\n",
    "podemos tirar duas conclusões importantes:"
   ]
  },
  {
   "cell_type": "markdown",
   "metadata": {
    "slideshow": {
     "slide_type": "fragment"
    }
   },
   "source": [
    "- O código que antecede o `while` deve inicializar as variáveis que aparecem na *condição* para permitir sua avaliação inicial."
   ]
  },
  {
   "cell_type": "markdown",
   "metadata": {
    "slideshow": {
     "slide_type": "fragment"
    }
   },
   "source": [
    "- Para evitar que o `while` execute eternamente, a *suite* deve atualizar os valores associados a algumas variáveis da *condição* de modo que, após um número finito de iterações, esta seja avaliada como `False`. "
   ]
  },
  {
   "cell_type": "markdown",
   "metadata": {
    "slideshow": {
     "slide_type": "subslide"
    }
   },
   "source": [
    "### Exemplo: Exibir um número arbitrário de Xs\n",
    "Uma vez entendido o funcionamento do `while`, será possível resolver o exemplo anterior?"
   ]
  },
  {
   "cell_type": "code",
   "execution_count": null,
   "metadata": {
    "slideshow": {
     "slide_type": "fragment"
    }
   },
   "outputs": [],
   "source": [
    "numXs = int(input(\"Quantos Xs? \"))\n",
    "ainda_faltam = numXs\n",
    "while ainda_faltam > 0:\n",
    "   print(\"X\")\n",
    "   ainda_faltam -= 1"
   ]
  },
  {
   "cell_type": "markdown",
   "metadata": {
    "slideshow": {
     "slide_type": "subslide"
    }
   },
   "source": [
    "Note que...\n",
    "- `ainda_faltam` é inicializado na linha 2, antes de ser usado na *condição* da linha 3.\n",
    "- `ainda_faltam` é decrementado na linha 5, o que faz com que o resultado da avaliação da *condição* da linha 3 se torne `False` após um número finito de iterações."
   ]
  },
  {
   "cell_type": "code",
   "execution_count": null,
   "metadata": {
    "slideshow": {
     "slide_type": "skip"
    }
   },
   "outputs": [],
   "source": [
    "numXs = int(input(\"Quantos Xs? \"))\n",
    "ja_fiz = 0\n",
    "while :\n",
    "   print(\"X\")\n",
    "   "
   ]
  },
  {
   "cell_type": "markdown",
   "metadata": {
    "slideshow": {
     "slide_type": "subslide"
    }
   },
   "source": [
    "Note que...\n",
    "- `ja_fiz` é inicializado na linha 2, antes de ser usado na *condição* da linha 3.\n",
    "- `ja_fiz` é incrementado na linha 5, o que faz com que o resultado da avaliação da *condição* da linha 3 se torne `False` após um número finito de iterações."
   ]
  },
  {
   "cell_type": "markdown",
   "metadata": {
    "slideshow": {
     "slide_type": "subslide"
    }
   },
   "source": [
    "### Exemplo: *Encontrar o mínimo múltiplo comum de dois inteiros positivos dados*\n",
    "\n",
    "**Problema.** Ler dois inteiros positivos e exibir o menor inteiro que pode ser dividido por ambos, sem deixar resto."
   ]
  },
  {
   "cell_type": "markdown",
   "metadata": {
    "slideshow": {
     "slide_type": "subslide"
    }
   },
   "source": [
    "**Solução.** Este problema pode ser resolvido por força bruta, se testarmos possíveis candidatos em ordem crescente."
   ]
  },
  {
   "cell_type": "code",
   "execution_count": 20,
   "metadata": {
    "slideshow": {
     "slide_type": "fragment"
    }
   },
   "outputs": [
    {
     "name": "stdout",
     "output_type": "stream",
     "text": [
      "Primeiro número? 4\n",
      "Segundo número? 5\n",
      "O mínimo múltiplo comum de 4 e 5 é 20\n"
     ]
    }
   ],
   "source": [
    "a = int(input('Primeiro número? '))\n",
    "b = int(input('Segundo número? '))\n",
    "mmc = 1\n",
    "while (mmc % a != 0) or (mmc % b != 0):\n",
    "    mmc += 1\n",
    "print('O mínimo múltiplo comum de', a, 'e', b, 'é', mmc)"
   ]
  },
  {
   "cell_type": "code",
   "execution_count": null,
   "metadata": {},
   "outputs": [],
   "source": [
    "(mmc é divisível por a) e (mmc é divisível por b)"
   ]
  },
  {
   "cell_type": "code",
   "execution_count": null,
   "metadata": {
    "slideshow": {
     "slide_type": "skip"
    }
   },
   "outputs": [],
   "source": [
    "a = int(input('Primeiro número? '))\n",
    "b = int(input('Segundo número? '))\n",
    "mmc = 1\n",
    "while (mmc % a != 0) or (mmc % b != 0):\n",
    "    mmc += 1\n",
    "print('O mínimo múltiplo comum de', a, 'e', b, 'é', mmc)"
   ]
  },
  {
   "cell_type": "markdown",
   "metadata": {
    "slideshow": {
     "slide_type": "subslide"
    }
   },
   "source": [
    "### Exemplo: *Achar o maior número ímpar entre 5 candidatos inteiros não-negativos*\n",
    "**Problema.** Ler 5 inteiros não-negativos e mostrar o maior número ímpar dentre eles ou uma mensagem apropriada caso todos sejam pares."
   ]
  },
  {
   "cell_type": "markdown",
   "metadata": {
    "slideshow": {
     "slide_type": "subslide"
    }
   },
   "source": [
    "**Raciocínio**\n",
    "- Como ainda não sabemos como armazenar uma coleção de objetos, vamos ter que tomar decisões à medida em que formos lendo os candidatos."
   ]
  },
  {
   "cell_type": "markdown",
   "metadata": {
    "slideshow": {
     "slide_type": "subslide"
    }
   },
   "source": [
    "**Raciocínio**\n",
    "- Pense numa variável como sendo um *post-it* que pode ser aplicado a um objeto qualquer.\n",
    "- Suponha que o *post-it* esteja grudado no maior ímpar já lido. Ao lermos um novo ímpar __maior do que aquele que está com o *post-it*__, transferimos o *post-it* para ele."
   ]
  },
  {
   "cell_type": "markdown",
   "metadata": {
    "slideshow": {
     "slide_type": "subslide"
    }
   },
   "source": [
    "**Raciocínio**\n",
    "- Repetimos esse raciocínio 5 vezes e, ao final, quem estiver com o *post-it* será a resposta desejada."
   ]
  },
  {
   "cell_type": "markdown",
   "metadata": {
    "slideshow": {
     "slide_type": "subslide"
    }
   },
   "source": [
    "**Pergunta**: Quem vai estar com o *post-it* no início do programa?"
   ]
  },
  {
   "cell_type": "markdown",
   "metadata": {
    "slideshow": {
     "slide_type": "fragment"
    }
   },
   "source": [
    "- Como ainda não lemos número algum, uma saída é colar o *post-it* num ___\"candidato imaginário e impossível\"___ que seja superado pelo primeiro número ímpar que aparecer, qualquer que seja ele."
   ]
  },
  {
   "cell_type": "markdown",
   "metadata": {
    "slideshow": {
     "slide_type": "subslide"
    }
   },
   "source": [
    "Como encontrar um ***\"candidato imaginário e impossível\"***?"
   ]
  },
  {
   "cell_type": "markdown",
   "metadata": {
    "slideshow": {
     "slide_type": "fragment"
    }
   },
   "source": [
    "- Como o enunciado nos diz que todos os candidatos serão não-negativos, qualquer inteiro negativo (p.ex. `-1`) pode servir como *\"candidato impossível\"*.\n",
    "- Além disso, se ao final o *post-it* ainda estiver com ele, saberemos com certeza que todos os números lidos foram pares."
   ]
  },
  {
   "cell_type": "markdown",
   "metadata": {
    "slideshow": {
     "slide_type": "subslide"
    }
   },
   "source": [
    "Com isso já podemos esboçar uma solução para o nosso problema.\n",
    "\n",
    "Vamos usar o modelo de *engenharia reversa* e supor que o resultado desejado seja associado a uma variável `maior_impar`, inicializada com o valor do *candidato imaginário e impossível* `-1`.\n",
    "\n",
    "Qual seria um possível *último comando*?"
   ]
  },
  {
   "cell_type": "code",
   "execution_count": null,
   "metadata": {
    "slideshow": {
     "slide_type": "subslide"
    }
   },
   "outputs": [],
   "source": [
    "maior_impar = -1\n",
    "\n",
    "\n",
    "if maior_impar == -1:"
   ]
  },
  {
   "cell_type": "code",
   "execution_count": null,
   "metadata": {
    "slideshow": {
     "slide_type": "skip"
    }
   },
   "outputs": [],
   "source": [
    "maior_impar = -1\n",
    "i = 0\n",
    "while i < 5:\n",
    "    cand = int(input('Próximo número? '))\n",
    "    if (cand % 2 != 0) and (cand > maior_impar):\n",
    "        maior_impar = cand\n",
    "    i += 1\n",
    "if maior_impar != -1:\n",
    "    print(\"maior ímpar =\", maior_impar)\n",
    "else:\n",
    "    print(\"Nenhum candidato ímpar.\")"
   ]
  },
  {
   "cell_type": "markdown",
   "metadata": {},
   "source": [
    "Podemos agora criar o loop usando uma variável contadora..."
   ]
  },
  {
   "cell_type": "code",
   "execution_count": null,
   "metadata": {},
   "outputs": [],
   "source": [
    "maior_impar = -1\n",
    "num_cands_lidos = 0\n",
    "while :\n",
    "\n",
    "    \n",
    "if maior_impar != -1:\n",
    "    print(\"maior ímpar =\", maior_impar)\n",
    "else:\n",
    "    print(\"Nenhum candidato ímpar.\")"
   ]
  },
  {
   "cell_type": "code",
   "execution_count": null,
   "metadata": {
    "slideshow": {
     "slide_type": "skip"
    }
   },
   "outputs": [],
   "source": [
    "maior_impar = -1\n",
    "num_cands_lidos = 0\n",
    "while num_cands_lidos < 5:\n",
    "\n",
    "    \n",
    "    num_cands_lidos += 1\n",
    "if maior_impar != -1:\n",
    "    print(\"maior ímpar =\", maior_impar)\n",
    "else:\n",
    "    print(\"Nenhum candidato ímpar.\")"
   ]
  },
  {
   "cell_type": "markdown",
   "metadata": {
    "slideshow": {
     "slide_type": "subslide"
    }
   },
   "source": [
    "Agora podemos ler um candidato..."
   ]
  },
  {
   "cell_type": "code",
   "execution_count": null,
   "metadata": {
    "slideshow": {
     "slide_type": "fragment"
    }
   },
   "outputs": [],
   "source": [
    "maior_impar = -1\n",
    "num_cands_lidos = 0\n",
    "while num_cands_lidos < 5:\n",
    "\n",
    "    \n",
    "    num_cands_lidos += 1\n",
    "if maior_impar != -1:\n",
    "    print(\"maior ímpar =\", maior_impar)\n",
    "else:\n",
    "    print(\"Nenhum candidato ímpar.\")"
   ]
  },
  {
   "cell_type": "code",
   "execution_count": null,
   "metadata": {
    "slideshow": {
     "slide_type": "skip"
    }
   },
   "outputs": [],
   "source": [
    "maior_impar = -1\n",
    "num_cands_lidos = 0\n",
    "while num_cands_lidos < 5:\n",
    "    cand = int(input(\"Candidato \" + str(num_cands_lidos) + \"? \"))\n",
    "\n",
    "    num_cands_lidos += 1\n",
    "if maior_impar != -1:\n",
    "    print(\"maior ímpar =\", maior_impar)\n",
    "else:\n",
    "    print(\"Nenhum candidato ímpar.\")"
   ]
  },
  {
   "cell_type": "markdown",
   "metadata": {
    "slideshow": {
     "slide_type": "subslide"
    }
   },
   "source": [
    "E, finalmente, testar se o *post-it* deve ser passado para ele..."
   ]
  },
  {
   "cell_type": "code",
   "execution_count": null,
   "metadata": {
    "slideshow": {
     "slide_type": "fragment"
    }
   },
   "outputs": [],
   "source": [
    "maior_impar = -1\n",
    "num_cands_lidos = 0\n",
    "while num_cands_lidos < 5:\n",
    "    cand = int(input(\"Candidato \" + str(num_cands_lidos) + \"? \"))\n",
    "\n",
    "    num_cands_lidos += 1\n",
    "if maior_impar != -1:\n",
    "    print(\"maior ímpar =\", maior_impar)\n",
    "else:\n",
    "    print(\"Nenhum candidato ímpar.\")"
   ]
  },
  {
   "cell_type": "code",
   "execution_count": null,
   "metadata": {
    "slideshow": {
     "slide_type": "skip"
    }
   },
   "outputs": [],
   "source": [
    "maior_impar = -1\n",
    "num_cands_lidos = 0\n",
    "while num_cands_lidos < 5:\n",
    "    cand = int(input(\"Candidato \" + str(num_cands_lidos) + \"? \"))\n",
    "    if cand % 2 == 1 and cand > maior_impar:\n",
    "        maior_impar = cand\n",
    "    num_cands_lidos += 1\n",
    "if maior_impar != -1:\n",
    "    print(\"maior ímpar =\", maior_impar)\n",
    "else:\n",
    "    print(\"Nenhum candidato ímpar.\")"
   ]
  },
  {
   "cell_type": "markdown",
   "metadata": {
    "slideshow": {
     "slide_type": "skip"
    }
   },
   "source": [
    "E assim temos uma solução para o nosso problema...\n",
    "```Python\n",
    "maior_impar = -1\n",
    "num_cands_lidos = 0\n",
    "while num_cands_lidos < 5:\n",
    "    cand = int(input(\"Candidato \" + num_cands_lidos + \"? \"))\n",
    "    if cand % 2 == 1 and cand > maior_impar:\n",
    "        maior_impar = cand\n",
    "    num_cands_lidos += 1\n",
    "if maior_impar != -1:\n",
    "    print(\"maior ímpar =\", maior_impar)\n",
    "else:\n",
    "    print(\"Nenhum candidato ímpar.\")\n",
    "```"
   ]
  },
  {
   "cell_type": "markdown",
   "metadata": {
    "slideshow": {
     "slide_type": "subslide"
    }
   },
   "source": [
    "Embora correta, essa solução desperta pelo menos duas preocupações:\n",
    "- Nem sempre será possível tomar decisões sem poder examinar simultaneamente todos os candidatos.\n",
    "- Para controlar o loop, tivemos que criar e gerenciar uma variável `num_cands_lidos` que não nos interessava diretamente."
   ]
  }
 ],
 "metadata": {
  "kernelspec": {
   "display_name": "Python 3",
   "language": "python",
   "name": "python3"
  },
  "language_info": {
   "codemirror_mode": {
    "name": "ipython",
    "version": 3
   },
   "file_extension": ".py",
   "mimetype": "text/x-python",
   "name": "python",
   "nbconvert_exporter": "python",
   "pygments_lexer": "ipython3",
   "version": "3.6.4"
  },
  "latex_envs": {
   "LaTeX_envs_menu_present": true,
   "autocomplete": true,
   "bibliofile": "biblio.bib",
   "cite_by": "apalike",
   "current_citInitial": 1,
   "eqLabelWithNumbers": true,
   "eqNumInitial": 1,
   "hotkeys": {
    "equation": "Ctrl-E",
    "itemize": "Ctrl-I"
   },
   "labels_anchors": false,
   "latex_user_defs": false,
   "report_style_numbering": false,
   "user_envs_cfg": false
  },
  "toc": {
   "nav_menu": {},
   "number_sections": true,
   "sideBar": true,
   "skip_h1_title": true,
   "title_cell": "Table of Contents",
   "title_sidebar": "Contents",
   "toc_cell": false,
   "toc_position": {},
   "toc_section_display": true,
   "toc_window_display": false
  },
  "varInspector": {
   "cols": {
    "lenName": 16,
    "lenType": 16,
    "lenVar": 40
   },
   "kernels_config": {
    "python": {
     "delete_cmd_postfix": "",
     "delete_cmd_prefix": "del ",
     "library": "var_list.py",
     "varRefreshCmd": "print(var_dic_list())"
    },
    "r": {
     "delete_cmd_postfix": ") ",
     "delete_cmd_prefix": "rm(",
     "library": "var_list.r",
     "varRefreshCmd": "cat(var_dic_list()) "
    }
   },
   "types_to_exclude": [
    "module",
    "function",
    "builtin_function_or_method",
    "instance",
    "_Feature"
   ],
   "window_display": false
  }
 },
 "nbformat": 4,
 "nbformat_minor": 2
}
