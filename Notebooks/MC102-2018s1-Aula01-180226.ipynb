{
 "cells": [
  {
   "cell_type": "markdown",
   "metadata": {
    "slideshow": {
     "slide_type": "slide"
    }
   },
   "source": [
    "# MC102 O+P Algoritmos e Programação de Computadores"
   ]
  },
  {
   "cell_type": "markdown",
   "metadata": {
    "slideshow": {
     "slide_type": "fragment"
    }
   },
   "source": [
    "# Introdução"
   ]
  },
  {
   "cell_type": "markdown",
   "metadata": {
    "slideshow": {
     "slide_type": "slide"
    }
   },
   "source": [
    "## O caminho do programa"
   ]
  },
  {
   "cell_type": "markdown",
   "metadata": {
    "slideshow": {
     "slide_type": "fragment"
    }
   },
   "source": [
    "Um cientista da computação **resolve problemas**."
   ]
  },
  {
   "cell_type": "markdown",
   "metadata": {
    "slideshow": {
     "slide_type": "fragment"
    }
   },
   "source": [
    "Resolver um problema envolve\n",
    "- Entender o problema\n",
    "- Formular e responder questões\n",
    "- Pensar criativamente sobre possíveis soluções\n",
    "- Expressar uma solução de forma clara e precisa"
   ]
  },
  {
   "cell_type": "markdown",
   "metadata": {
    "slideshow": {
     "slide_type": "slide"
    }
   },
   "source": [
    "## Algoritmos"
   ]
  },
  {
   "cell_type": "markdown",
   "metadata": {
    "slideshow": {
     "slide_type": "fragment"
    }
   },
   "source": [
    "Um **algoritmo** é a descrição de uma maneira de se resolver um certo problema."
   ]
  },
  {
   "cell_type": "markdown",
   "metadata": {
    "slideshow": {
     "slide_type": "fragment"
    }
   },
   "source": [
    "Para que um algoritmo possa ser executado por um computador ele precisa ser expresso numa **linguagem de programação**."
   ]
  },
  {
   "cell_type": "markdown",
   "metadata": {
    "slideshow": {
     "slide_type": "fragment"
    }
   },
   "source": [
    "Um **programa de computador** é um algoritmo expresso numa linguagem de programação."
   ]
  },
  {
   "cell_type": "markdown",
   "metadata": {
    "slideshow": {
     "slide_type": "slide"
    }
   },
   "source": [
    "## Linguagens formais e naturais"
   ]
  },
  {
   "cell_type": "markdown",
   "metadata": {
    "slideshow": {
     "slide_type": "fragment"
    }
   },
   "source": [
    "**Linguagens naturais** são as linguagens que as pessoas falam, como Português, Inglês e Espanhol.  \n",
    "Elas não são projetadas, mas evoluem naturalmente."
   ]
  },
  {
   "cell_type": "markdown",
   "metadata": {
    "slideshow": {
     "slide_type": "fragment"
    }
   },
   "source": [
    "**Linguagens formais** são linguagens projetadas para serem usadas em determinadas aplicações. Matemáticos, químicos e programadores, todos usam linguagens formais especificamente desenvolvidas."
   ]
  },
  {
   "cell_type": "markdown",
   "metadata": {
    "slideshow": {
     "slide_type": "fragment"
    }
   },
   "source": [
    "*Linguagens de programação são linguagens formais desenhadas especificamente para expressar algoritmos de forma a poderem ser interpretados e executados por computadores.*"
   ]
  },
  {
   "cell_type": "markdown",
   "metadata": {
    "slideshow": {
     "slide_type": "slide"
    }
   },
   "source": [
    "Linguagens naturais e linguagens formais têm muitas características comuns.  \n",
    "Por exemplo: elementos básicos (*tokens*), estrutura, sintaxe e semântica."
   ]
  },
  {
   "cell_type": "markdown",
   "metadata": {
    "slideshow": {
     "slide_type": "fragment"
    }
   },
   "source": [
    "**_Tokens_** são os elementos básicos da linguagem, como as palavras, números e símbolos."
   ]
  },
  {
   "cell_type": "markdown",
   "metadata": {
    "slideshow": {
     "slide_type": "fragment"
    }
   },
   "source": [
    "A estrutura define como as tokens são arranjadas para formar elementos mais complexos como frases, parágrafos e discurso."
   ]
  },
  {
   "cell_type": "markdown",
   "metadata": {
    "slideshow": {
     "slide_type": "fragment"
    }
   },
   "source": [
    "A **sintaxe** é a parte da gramática que estuda a disposição das tokens na frase e a das frases no discurso, bem como a relação lógica das frases entre si.\n",
    "- Ao contrário das linguagens naturais, as linguagens formais, em geral, têm regras de sintaxe bastante rígidas."
   ]
  },
  {
   "cell_type": "markdown",
   "metadata": {
    "slideshow": {
     "slide_type": "fragment"
    }
   },
   "source": [
    "Finalmente, a **semântica** trata do significado das frases, parágrafos e discursos."
   ]
  },
  {
   "cell_type": "markdown",
   "metadata": {
    "slideshow": {
     "slide_type": "slide"
    }
   },
   "source": [
    "Para que seja possível \"entender\" uma frase, é necessário reconhecer sua estrutura.\n",
    "\n",
    "Este processo é chamado **parsing** (análise sintática).\n",
    "\n",
    "Uma vez analisada uma frase é possível entender a semântica, ou o significado da frase. "
   ]
  },
  {
   "cell_type": "markdown",
   "metadata": {
    "slideshow": {
     "slide_type": "slide"
    }
   },
   "source": [
    "Embora as linguagens formais e as linguagens naturais tenham muitas características em comum, existem muitas diferenças:"
   ]
  },
  {
   "cell_type": "markdown",
   "metadata": {
    "slideshow": {
     "slide_type": "fragment"
    }
   },
   "source": [
    "- **Ambiguidade**\n",
    "  - A mãe pegou o filho correndo na rua."
   ]
  },
  {
   "cell_type": "markdown",
   "metadata": {
    "slideshow": {
     "slide_type": "fragment"
    }
   },
   "source": [
    "- **Redundância**\n",
    "  - Vi com meus próprios olhos."
   ]
  },
  {
   "cell_type": "markdown",
   "metadata": {
    "slideshow": {
     "slide_type": "fragment"
    }
   },
   "source": [
    "- **Literalidade**\n",
    "  - A vaca foi pro brejo."
   ]
  },
  {
   "cell_type": "markdown",
   "metadata": {
    "slideshow": {
     "slide_type": "slide"
    }
   },
   "source": [
    "## A linguagem de programação Python"
   ]
  },
  {
   "cell_type": "markdown",
   "metadata": {
    "slideshow": {
     "slide_type": "fragment"
    }
   },
   "source": [
    "**Python** é uma **linguagem de programação de alto nível**."
   ]
  },
  {
   "cell_type": "markdown",
   "metadata": {
    "slideshow": {
     "slide_type": "fragment"
    }
   },
   "source": [
    "Uma linguagem de alto nível é mais abstrata, mais próxima de uma linguagem natural."
   ]
  },
  {
   "cell_type": "markdown",
   "metadata": {
    "slideshow": {
     "slide_type": "fragment"
    }
   },
   "source": [
    "Na sua grande maioria, programas de computador são escritos em linguagens de alto nível porque"
   ]
  },
  {
   "cell_type": "markdown",
   "metadata": {
    "slideshow": {
     "slide_type": "fragment"
    }
   },
   "source": [
    "- O trabalho é mais fácil, mais rápido, mais conciso, mais legível, mais fácil de alterar, mais fácil de corrigir, menos sujeito a erros"
   ]
  },
  {
   "cell_type": "markdown",
   "metadata": {
    "slideshow": {
     "slide_type": "fragment"
    }
   },
   "source": [
    "- Os programas são portáteis, isto é podem ser executados em diferentes ambientes computacionais sem qualquer modificação."
   ]
  },
  {
   "cell_type": "markdown",
   "metadata": {
    "slideshow": {
     "slide_type": "slide"
    }
   },
   "source": [
    "Antes que um programa escrito em uma linguagem de alto nível possa ser executado por um computador ele precisa ser traduzido para uma **linguagem de baixo nível**. "
   ]
  },
  {
   "cell_type": "markdown",
   "metadata": {
    "slideshow": {
     "slide_type": "fragment"
    }
   },
   "source": [
    "Um programa escrito numa linguagem de alto nível é chamado **código fonte** e sua tradução em uma linguagem de baixo nível é chamada **código objeto** ou **código executável**."
   ]
  },
  {
   "cell_type": "markdown",
   "metadata": {
    "slideshow": {
     "slide_type": "fragment"
    }
   },
   "source": [
    "A tradução de uma linguagem de alto nível para uma linguagem de baixo nível é feita por um programa que pode ser um **interpretador** ou um **compilador**."
   ]
  },
  {
   "cell_type": "markdown",
   "metadata": {
    "slideshow": {
     "slide_type": "fragment"
    }
   },
   "source": [
    "- Um **interpretador** lê, traduz e executa uma ou mais linhas de um programa de cada vez, alternadamente."
   ]
  },
  {
   "cell_type": "markdown",
   "metadata": {
    "slideshow": {
     "slide_type": "fragment"
    }
   },
   "source": [
    "- Um **compilador** lê e traduz um programa inteiro, deixando-o pronto para ser executado."
   ]
  },
  {
   "cell_type": "markdown",
   "metadata": {
    "slideshow": {
     "slide_type": "slide"
    }
   },
   "source": [
    "Muitas linguagens de programação modernas usam esses dois processos:\n",
    "- O código fonte é compilado gerando um código objeto chamado  \n",
    "**código em bytes** (byte code).\n",
    "- O código em bytes é interpretado por um programa chamado **máquina virtual**."
   ]
  },
  {
   "cell_type": "markdown",
   "metadata": {
    "slideshow": {
     "slide_type": "slide"
    }
   },
   "source": [
    "Embora Python também use os dois processos, ela é geralmente considerada uma linguagem interpretada."
   ]
  },
  {
   "cell_type": "markdown",
   "metadata": {
    "slideshow": {
     "slide_type": "fragment"
    }
   },
   "source": [
    "O interpretador Python pode ser usado de dois modos:\n",
    "- **Linha de comando** (*shell mode*) -- que permite a interação entre o usuário e o interpretador.\n",
    "- **Script** (*program mode*) -- no qual um arquivo contendo um programa fonte completo é submetido ao interpretador para ser executado"
   ]
  },
  {
   "cell_type": "markdown",
   "metadata": {
    "slideshow": {
     "slide_type": "slide"
    }
   },
   "source": [
    "Este é um exemplo do uso do interpretador no modo **linha de comando**.\n",
    "\n",
    "O usuário interage com o interpretador por meio do **terminal Python** (*Python shell*)."
   ]
  },
  {
   "cell_type": "raw",
   "metadata": {
    "slideshow": {
     "slide_type": "fragment"
    }
   },
   "source": [
    "$ python3\n",
    "Python 3.6.4 |Anaconda custom (64-bit)| (default, Dec 21 2017, 15:39:08) \n",
    "[GCC 4.2.1 Compatible Clang 4.0.1 (tags/RELEASE_401/final)] on darwin\n",
    "Type \"help\", \"copyright\", \"credits\" or \"license\" for more information.\n",
    ">>> 2 + 3\n",
    "5\n",
    ">>> "
   ]
  },
  {
   "cell_type": "markdown",
   "metadata": {
    "slideshow": {
     "slide_type": "fragment"
    }
   },
   "source": [
    "O símbolo **>>>** é chamado **prompt** e indica que o terminal Python está pronto para receber um comando."
   ]
  },
  {
   "cell_type": "markdown",
   "metadata": {
    "slideshow": {
     "slide_type": "slide"
    }
   },
   "source": [
    "Este é um exemplo do uso do interpretador no modo **script**.\n",
    "\n",
    "Primeiro, o usuário criou um arquivo chamado **`soma.py`**: "
   ]
  },
  {
   "cell_type": "raw",
   "metadata": {
    "slideshow": {
     "slide_type": "fragment"
    }
   },
   "source": [
    "print(2 + 3)"
   ]
  },
  {
   "cell_type": "markdown",
   "metadata": {
    "slideshow": {
     "slide_type": "fragment"
    }
   },
   "source": [
    "E depois submeteu esse arquivo ao interpretador Python."
   ]
  },
  {
   "cell_type": "raw",
   "metadata": {
    "slideshow": {
     "slide_type": "fragment"
    }
   },
   "source": [
    "$ python3 soma.py\n",
    "5\n",
    "$"
   ]
  },
  {
   "cell_type": "markdown",
   "metadata": {
    "slideshow": {
     "slide_type": "fragment"
    }
   },
   "source": [
    "Os programas fonte em Python têm extensão **`.py`**"
   ]
  },
  {
   "cell_type": "markdown",
   "metadata": {
    "slideshow": {
     "slide_type": "slide"
    }
   },
   "source": [
    "## Como executar programas Python\n",
    "\n",
    "Um programa Python pode ser executado de diversas maneiras, entre as quais:\n",
    "- Interativamente no terminal Python\n",
    "- Submetendo a Python um arquivo com o código fonte\n",
    "- Num ambiente IDE como Spyder, PyCharm, Pythonista (iPad), etc.\n",
    "- Nas janelas **ActiveCode** do livro interativo\n",
    "- Numa célula de um Notebook Jupyter, como abaixo..."
   ]
  },
  {
   "cell_type": "code",
   "execution_count": 1,
   "metadata": {
    "slideshow": {
     "slide_type": "fragment"
    }
   },
   "outputs": [
    {
     "name": "stdout",
     "output_type": "stream",
     "text": [
      "5\n"
     ]
    }
   ],
   "source": [
    "print(2+3)"
   ]
  },
  {
   "cell_type": "markdown",
   "metadata": {
    "slideshow": {
     "slide_type": "slide"
    }
   },
   "source": [
    "## Um pouco mais sobre programas"
   ]
  },
  {
   "cell_type": "markdown",
   "metadata": {
    "slideshow": {
     "slide_type": "fragment"
    }
   },
   "source": [
    "Nesta disciplina, um *programa* será sempre entendido como uma *sequência de instruções* que especificam como executar uma determinada tarefa."
   ]
  },
  {
   "cell_type": "markdown",
   "metadata": {
    "slideshow": {
     "slide_type": "subslide"
    }
   },
   "source": [
    "Em quase todas as linguagens de programação, as instruções essenciais pertencem a 5 grupos:\n",
    "\n",
    "- Entrada\n",
    "  - Obter dados do teclado, de um arquivo ou de algum outro dispositivo.\n",
    "\n",
    "- Saída\n",
    "  - Enviar resultados para a tela, um arquivo ou algum outro dispositivo.\n",
    "\n",
    "- Matemática e lógica\n",
    "  - Executar operações matemáticas e lógicas\n",
    "\n",
    "- Execução condicional\n",
    "  - Verificar se certas condições são satisfeitas e, nesse caso, executar uma ou mais instruções.\n",
    "\n",
    "- Repetição\n",
    "  - Executar uma ou mais instruções repetidamente, enquanto certas condições forem satisfeitas."
   ]
  },
  {
   "cell_type": "markdown",
   "metadata": {
    "slideshow": {
     "slide_type": "slide"
    }
   },
   "source": [
    "## O que é depurar um programa?\n",
    "\n",
    "**Depuração** é o trabalho de encontrar e corrigir os erros que um programa apresenta."
   ]
  },
  {
   "cell_type": "markdown",
   "metadata": {
    "slideshow": {
     "slide_type": "fragment"
    }
   },
   "source": [
    "Os erros que um programa pode apresentar são geralmente classificados em três grupos:\n",
    "- Erros de sintaxe\n",
    "- Erros de execução\n",
    "- Erros de semântica"
   ]
  },
  {
   "cell_type": "markdown",
   "metadata": {
    "slideshow": {
     "slide_type": "subslide"
    }
   },
   "source": [
    "### Erros de sintaxe\n",
    "Ocorrem quando a disposição das palavras na frase ou das frases no discurso, bem como a relação lógica das frases entre si, desobedecem a sintaxe da linguagem."
   ]
  },
  {
   "cell_type": "markdown",
   "metadata": {
    "slideshow": {
     "slide_type": "fragment"
    }
   },
   "source": [
    "Por exemplo, em português, uma frase deve começar com uma letra maiúscula e terminar com um ponto.\n",
    "- herrar é umano\n",
    "- esta frase contém **um** erro de sintaxe. \n",
    "- Esta também"
   ]
  },
  {
   "cell_type": "code",
   "execution_count": 5,
   "metadata": {
    "slideshow": {
     "slide_type": "fragment"
    }
   },
   "outputs": [
    {
     "ename": "SyntaxError",
     "evalue": "EOL while scanning string literal (<ipython-input-5-7a8269fa1654>, line 1)",
     "output_type": "error",
     "traceback": [
      "\u001b[0;36m  File \u001b[0;32m\"<ipython-input-5-7a8269fa1654>\"\u001b[0;36m, line \u001b[0;32m1\u001b[0m\n\u001b[0;31m    print('Vou somar 2 e 3...)\u001b[0m\n\u001b[0m                              ^\u001b[0m\n\u001b[0;31mSyntaxError\u001b[0m\u001b[0;31m:\u001b[0m EOL while scanning string literal\n"
     ]
    }
   ],
   "source": [
    "print('Vou somar 2 e 3...)\n",
    "print(2 + 3)"
   ]
  },
  {
   "cell_type": "markdown",
   "metadata": {
    "slideshow": {
     "slide_type": "subslide"
    }
   },
   "source": [
    "### Erros de execução\n",
    "**Erros de execução** ou **exceções** só são percebidos quando um programa está sendo rodado e, em geral, interrompem a execução."
   ]
  },
  {
   "cell_type": "code",
   "execution_count": 6,
   "metadata": {
    "slideshow": {
     "slide_type": "fragment"
    }
   },
   "outputs": [
    {
     "name": "stdout",
     "output_type": "stream",
     "text": [
      "Vou dividir 2 por 3...\n"
     ]
    },
    {
     "ename": "ZeroDivisionError",
     "evalue": "division by zero",
     "output_type": "error",
     "traceback": [
      "\u001b[0;31m---------------------------------------------------------------------------\u001b[0m",
      "\u001b[0;31mZeroDivisionError\u001b[0m                         Traceback (most recent call last)",
      "\u001b[0;32m<ipython-input-6-7df3fc0b8ef7>\u001b[0m in \u001b[0;36m<module>\u001b[0;34m()\u001b[0m\n\u001b[1;32m      1\u001b[0m \u001b[0mprint\u001b[0m\u001b[0;34m(\u001b[0m\u001b[0;34m'Vou dividir 2 por 3...'\u001b[0m\u001b[0;34m)\u001b[0m\u001b[0;34m\u001b[0m\u001b[0m\n\u001b[0;32m----> 2\u001b[0;31m \u001b[0mprint\u001b[0m\u001b[0;34m(\u001b[0m\u001b[0;36m2\u001b[0m \u001b[0;34m/\u001b[0m \u001b[0;36m0\u001b[0m\u001b[0;34m)\u001b[0m\u001b[0;34m\u001b[0m\u001b[0m\n\u001b[0m",
      "\u001b[0;31mZeroDivisionError\u001b[0m: division by zero"
     ]
    }
   ],
   "source": [
    "print('Vou dividir 2 por 3...')\n",
    "print(2 / 0)"
   ]
  },
  {
   "cell_type": "markdown",
   "metadata": {
    "slideshow": {
     "slide_type": "subslide"
    }
   },
   "source": [
    "### Erros de semântica\n",
    "Um **erro de semântica** é também chamado **erro de lógica**.\n",
    "\n",
    "Um programa com um erro semântico não falha ou termina abruptamente,  \n",
    "mas não produz o resultado desejado."
   ]
  },
  {
   "cell_type": "markdown",
   "metadata": {
    "slideshow": {
     "slide_type": "subslide"
    }
   },
   "source": [
    "Erros semânticos são muito mais difíceis de identificar do que erros de sintaxe ou de execução, porque\n",
    "um programa com erros semânticos ainda é um programa válido na linguagem em que está escrito. \n",
    "\n",
    "- Um erro de sintaxe torna o programa inválido e é facilmente percebido pelo interpretador.  \n",
    "- Uma exceção interrompe a execução de um programa.  \n",
    "- No entanto, cabe a você identificar os erros de semântica em seus programas."
   ]
  },
  {
   "cell_type": "code",
   "execution_count": 4,
   "metadata": {
    "slideshow": {
     "slide_type": "fragment"
    }
   },
   "outputs": [
    {
     "name": "stdout",
     "output_type": "stream",
     "text": [
      "Vou dividir 2 por 3...\n",
      "0.25\n"
     ]
    }
   ],
   "source": [
    "print('Vou dividir 2 por 3...')\n",
    "print(2 / 8)"
   ]
  }
 ],
 "metadata": {
  "celltoolbar": "Slideshow",
  "kernelspec": {
   "display_name": "Python 3",
   "language": "python",
   "name": "python3"
  },
  "language_info": {
   "codemirror_mode": {
    "name": "ipython",
    "version": 3
   },
   "file_extension": ".py",
   "mimetype": "text/x-python",
   "name": "python",
   "nbconvert_exporter": "python",
   "pygments_lexer": "ipython3",
   "version": "3.6.4"
  }
 },
 "nbformat": 4,
 "nbformat_minor": 2
}
