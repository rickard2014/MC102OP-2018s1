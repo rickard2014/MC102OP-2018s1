{
 "cells": [
  {
   "cell_type": "markdown",
   "metadata": {
    "slideshow": {
     "slide_type": "slide"
    }
   },
   "source": [
    "# Lógica e Escolhas"
   ]
  },
  {
   "cell_type": "markdown",
   "metadata": {
    "slideshow": {
     "slide_type": "fragment"
    }
   },
   "source": [
    "Vimos como resolver um problema com uma sequência de ações:"
   ]
  },
  {
   "cell_type": "markdown",
   "metadata": {
    "slideshow": {
     "slide_type": "fragment"
    }
   },
   "source": [
    "```python\n",
    "hora_atual = int(input(\"Que horas são? (0-23) \"))\n",
    "horas_espera = int(input(\"Quantas horas você vai esperar? (>=0) \"))\n",
    "hora_alarme = (hora_atual + horas_espera) % 24\n",
    "print(\"O alarme vai tocar às\", hora_alarme, \"horas.\")\n",
    "```"
   ]
  },
  {
   "cell_type": "markdown",
   "metadata": {
    "slideshow": {
     "slide_type": "fragment"
    }
   },
   "source": [
    "Mas nem sempre se consegue resolver um problema dessa maneira..."
   ]
  },
  {
   "cell_type": "markdown",
   "metadata": {
    "slideshow": {
     "slide_type": "notes"
    }
   },
   "source": [
    "hora_atual = int(input(\"Que horas são? (0-23) \"))\n",
    "horas_espera = int(input(\"Quantas horas você vai esperar? (>=0) \"))\n",
    "hora_alarme = (hora_atual + horas_espera) % 24\n",
    "print(\"O alarme vai tocar às\", hora_alarme, \"horas.\")"
   ]
  },
  {
   "cell_type": "markdown",
   "metadata": {
    "slideshow": {
     "slide_type": "slide"
    }
   },
   "source": [
    "## Exemplo\n",
    "\n",
    "    Ler dois valores inteiros e exibir o maior deles.\n",
    "\n",
    "Suponha que os valores lidos sejam associados a duas variáveis $a$ e $b$, por exemplo.\n",
    "\n",
    "Você consegue encontrar uma heurística que, sozinha, resolva todos os casos possíveis?"
   ]
  },
  {
   "cell_type": "markdown",
   "metadata": {
    "slideshow": {
     "slide_type": "fragment"
    }
   },
   "source": [
    "Você consegue imaginar uma heurística que resolva pelo menos alguns casos?"
   ]
  },
  {
   "cell_type": "markdown",
   "metadata": {
    "slideshow": {
     "slide_type": "fragment"
    }
   },
   "source": [
    "Sim, o comando `print(a)` resolve o problema desde que `a > b`."
   ]
  },
  {
   "cell_type": "markdown",
   "metadata": {
    "slideshow": {
     "slide_type": "fragment"
    }
   },
   "source": [
    "Para garantir que `print(a)` seja executado somente se `a > b`, usamos um *comando condicional*."
   ]
  },
  {
   "cell_type": "markdown",
   "metadata": {
    "slideshow": {
     "slide_type": "slide"
    }
   },
   "source": [
    "### Comando condicional\n",
    "Um comando condicional é um comando capaz de executar um grupo de um ou mais comandos, desde que uma dada condição seja satisfeita.\n",
    "```python\n",
    "if condição:\n",
    "    bloco\n",
    "```"
   ]
  },
  {
   "cell_type": "markdown",
   "metadata": {
    "slideshow": {
     "slide_type": "slide"
    }
   },
   "source": [
    "Um comando condicional permite resolver um problema quando não se encontra uma heurística que, sozinha, resolva todos os casos possíveis.\n",
    "\n",
    "Quando isso acontecer  \n",
    "- Procure uma heurística que resolva pelo menos alguns casos e faça com que ela seja executada apenas quando ocorrer um deles.\n",
    "- Procure outra heurística que resolva pelo menos alguns dos casos que não foram cobertos e faça com que ela seja executada apenas quando ocorrer um deles.\n",
    "- Repita esse processo até ter coberto todos os casos possíveis."
   ]
  },
  {
   "cell_type": "markdown",
   "metadata": {
    "slideshow": {
     "slide_type": "slide"
    }
   },
   "source": [
    "No exemplo dado..."
   ]
  },
  {
   "cell_type": "code",
   "execution_count": 37,
   "metadata": {
    "slideshow": {
     "slide_type": "skip"
    }
   },
   "outputs": [
    {
     "name": "stdout",
     "output_type": "stream",
     "text": [
      "a é maior\n",
      "a e b são iguais\n",
      "15 5\n"
     ]
    }
   ],
   "source": [
    "a = 15\n",
    "b = 5\n",
    "\n",
    "if a > b:\n",
    "    print(\"a é maior\")    \n",
    "if a < b:\n",
    "    print(\"b é maior\")\n",
    "if a == b:\n",
    "    print(\"a e b são iguais\")\n"
   ]
  },
  {
   "cell_type": "code",
   "execution_count": 7,
   "metadata": {
    "slideshow": {
     "slide_type": "-"
    }
   },
   "outputs": [
    {
     "name": "stdout",
     "output_type": "stream",
     "text": [
      "Primeiro valor? 5\n",
      "Segundo valor? 5\n",
      "Os dois valores são iguais a 5\n"
     ]
    }
   ],
   "source": [
    "a = int(input(\"Primeiro valor? \"))\n",
    "b = int(input(\"Segundo valor? \"))\n",
    "if a > b:\n",
    "    print(\"O maior valor é\", a)\n",
    "if a < b:\n",
    "    print(\"O maior valor é\", b)\n",
    "if a == b:\n",
    "    print(\"Os dois valores são iguais a\", a)"
   ]
  },
  {
   "cell_type": "markdown",
   "metadata": {
    "slideshow": {
     "slide_type": "fragment"
    }
   },
   "source": [
    "Todos os casos estão cobertos?  \n",
    "Estamos satisfeitos com o resultado?"
   ]
  },
  {
   "cell_type": "markdown",
   "metadata": {
    "slideshow": {
     "slide_type": "slide"
    }
   },
   "source": [
    "O comando condicional tem uma outra forma que permite tratar melhor situações como essa...\n",
    "```python\n",
    "if condição_1:\n",
    "    bloco_1\n",
    "elif condição_2:\n",
    "    bloco_2\n",
    "#...\n",
    "else:\n",
    "    bloco_n\n",
    "```\n",
    "\n",
    "Nós podemos usar a cláusula `else` para tratar um último caso ou, por exemplo, para apanhar uma exceção."
   ]
  },
  {
   "cell_type": "markdown",
   "metadata": {},
   "source": [
    "### Uso do `else` para tratar um caso final"
   ]
  },
  {
   "cell_type": "code",
   "execution_count": null,
   "metadata": {
    "cell_style": "center",
    "slideshow": {
     "slide_type": "-"
    }
   },
   "outputs": [],
   "source": [
    "a = int(input(\"Primeiro valor? \"))\n",
    "b = int(input(\"Segundo valor? \"))\n",
    "if a > b:\n",
    "    print(\"O maior valor é\", a)\n",
    "elif a < b:\n",
    "    print(\"O maior valor é\", b)\n",
    "else:\n",
    "    print(\"Os dois valores são iguais a\", a)"
   ]
  },
  {
   "cell_type": "markdown",
   "metadata": {
    "slideshow": {
     "slide_type": "slide"
    }
   },
   "source": [
    "## Uso do `else` para apanhar uma exceção"
   ]
  },
  {
   "cell_type": "code",
   "execution_count": null,
   "metadata": {
    "slideshow": {
     "slide_type": "-"
    }
   },
   "outputs": [],
   "source": [
    "a = int(input(\"Primeiro valor? \"))\n",
    "b = int(input(\"Segundo valor? \"))\n",
    "if a > b:\n",
    "    print(\"O maior valor é\", a)\n",
    "elif a < b:\n",
    "    print(\"O maior valor é\", b)\n",
    "elif a == b:\n",
    "    print(\"Os dois valores são iguais a\", a)\n",
    "else:\n",
    "    print(\"Tem alguma coisa errada com este computador!\")"
   ]
  },
  {
   "cell_type": "markdown",
   "metadata": {
    "slideshow": {
     "slide_type": "slide"
    }
   },
   "source": [
    "## O tipo `bool`"
   ]
  },
  {
   "cell_type": "markdown",
   "metadata": {
    "slideshow": {
     "slide_type": "fragment"
    }
   },
   "source": [
    "Num comando condicional, a *condição* é uma *asserção* (ou *expressão lógica*), isto é, uma afirmação que pode ser *verdadeira* ou *falsa*."
   ]
  },
  {
   "cell_type": "markdown",
   "metadata": {
    "slideshow": {
     "slide_type": "fragment"
    }
   },
   "source": [
    "Como a maioria das linguagens de alto-nível, Python também tem um tipo de dados para representar valores lógicos: `bool`."
   ]
  },
  {
   "cell_type": "markdown",
   "metadata": {
    "slideshow": {
     "slide_type": "subslide"
    }
   },
   "source": [
    "O tipo `bool` possui apenas dois valores (`True` e `False`) e três operadores (`not`, `and` e `or`)."
   ]
  },
  {
   "cell_type": "markdown",
   "metadata": {
    "slideshow": {
     "slide_type": "fragment"
    }
   },
   "source": [
    "`not` é um operador unário, enquanto `and` e `or` são binários. Essa é também a ordem de precedência entre eles.\n",
    "\n",
    "`not` nega o valor de seu operando. Assim, `not True` é `False` e `not False` é `True`.\n",
    "\n",
    "`and` produz `True` se *ambos* operandos forem `True` ou `False`, caso contrário.\n",
    "\n",
    "`or` produz `False` se *ambos* operandos forem `False` ou `True`, caso contrário."
   ]
  },
  {
   "cell_type": "code",
   "execution_count": 1,
   "metadata": {
    "slideshow": {
     "slide_type": "subslide"
    }
   },
   "outputs": [
    {
     "data": {
      "text/plain": [
       "True"
      ]
     },
     "execution_count": 1,
     "metadata": {},
     "output_type": "execute_result"
    }
   ],
   "source": [
    "not 3 > 5"
   ]
  },
  {
   "cell_type": "markdown",
   "metadata": {
    "slideshow": {
     "slide_type": "slide"
    }
   },
   "source": [
    "## Operadores relacionais"
   ]
  },
  {
   "cell_type": "markdown",
   "metadata": {
    "slideshow": {
     "slide_type": "fragment"
    }
   },
   "source": [
    "Uma condição é frequentemente expressa como uma comparação que usa um *operador relacional* e produz um resultado do tipo `bool`."
   ]
  },
  {
   "cell_type": "markdown",
   "metadata": {
    "slideshow": {
     "slide_type": "fragment"
    }
   },
   "source": [
    "Há seis operadores relacionais em Python: `>`, `<`, `>=`, `<=`, `==` (igual) e `!=` (diferente)."
   ]
  },
  {
   "cell_type": "markdown",
   "metadata": {
    "slideshow": {
     "slide_type": "fragment"
    }
   },
   "source": [
    "É possível comparar `int` com `int`, `float` com `float`, `int` com `float` e `str` com `str`.\n",
    "> No caso de `str`, a comparação é lexicográfica e usa a tabela ASCII. Nessa tabela, as letras estão na ordem do alfabeto inglês e maiúsculas são \"menores\" do que as minúsculas."
   ]
  },
  {
   "cell_type": "code",
   "execution_count": 2,
   "metadata": {},
   "outputs": [
    {
     "data": {
      "text/plain": [
       "True"
      ]
     },
     "execution_count": 2,
     "metadata": {},
     "output_type": "execute_result"
    }
   ],
   "source": [
    "'abc' > \"ABC\""
   ]
  },
  {
   "cell_type": "markdown",
   "metadata": {
    "slideshow": {
     "slide_type": "slide"
    }
   },
   "source": [
    "## Expressões contendo operadores lógicos e relacionais"
   ]
  },
  {
   "cell_type": "markdown",
   "metadata": {
    "slideshow": {
     "slide_type": "fragment"
    }
   },
   "source": [
    "Os operadores aritméticos têm precedência sobre os operadores relacionais."
   ]
  },
  {
   "cell_type": "markdown",
   "metadata": {
    "slideshow": {
     "slide_type": "fragment"
    }
   },
   "source": [
    "Os operadores relacionais têm precedência sobre os operadores lógicos."
   ]
  },
  {
   "cell_type": "markdown",
   "metadata": {
    "slideshow": {
     "slide_type": "fragment"
    }
   },
   "source": [
    "`not` tem precedência sobre `and`, que tem precedência sobre `or`."
   ]
  },
  {
   "cell_type": "code",
   "execution_count": 48,
   "metadata": {
    "slideshow": {
     "slide_type": "slide"
    }
   },
   "outputs": [
    {
     "data": {
      "text/plain": [
       "False"
      ]
     },
     "execution_count": 48,
     "metadata": {},
     "output_type": "execute_result"
    }
   ],
   "source": [
    "\n",
    "3 + 5 > 10 and 5 / 0 > 0"
   ]
  },
  {
   "cell_type": "markdown",
   "metadata": {
    "slideshow": {
     "slide_type": "fragment"
    }
   },
   "source": [
    "## Particularidades de Python"
   ]
  },
  {
   "cell_type": "markdown",
   "metadata": {
    "slideshow": {
     "slide_type": "fragment"
    }
   },
   "source": [
    "#### `bool` é mapeado sobre `int`"
   ]
  },
  {
   "cell_type": "markdown",
   "metadata": {
    "slideshow": {
     "slide_type": "fragment"
    }
   },
   "source": [
    "`True` é mapeado sobre `1` e `False` é mapeado sobre `0`. Com isso..."
   ]
  },
  {
   "cell_type": "code",
   "execution_count": 3,
   "metadata": {
    "slideshow": {
     "slide_type": "-"
    }
   },
   "outputs": [
    {
     "data": {
      "text/plain": [
       "6"
      ]
     },
     "execution_count": 3,
     "metadata": {},
     "output_type": "execute_result"
    }
   ],
   "source": [
    "5 + (3 < 5)"
   ]
  },
  {
   "cell_type": "markdown",
   "metadata": {
    "slideshow": {
     "slide_type": "subslide"
    }
   },
   "source": [
    "#### `int`, `float` e `str` também podem ser mapeados sobre `bool`"
   ]
  },
  {
   "cell_type": "markdown",
   "metadata": {
    "slideshow": {
     "slide_type": "fragment"
    }
   },
   "source": [
    "Quando aparecem numa expressão lógica, os zeros dos tipos `int` e `float` são considerados `False` e o mesmo vale para a `str` vazia (`\"\"`).\n",
    "\n",
    "Todos os demais valores de `int`, `float` e `str` são considerados `True`."
   ]
  },
  {
   "cell_type": "code",
   "execution_count": 4,
   "metadata": {},
   "outputs": [
    {
     "name": "stdout",
     "output_type": "stream",
     "text": [
      "Escreva alguma coisa.\n"
     ]
    }
   ],
   "source": [
    "s = \"\"\n",
    "if s:\n",
    "    print(\"Ok\")\n",
    "else:\n",
    "    print(\"Escreva alguma coisa.\")"
   ]
  },
  {
   "cell_type": "markdown",
   "metadata": {
    "slideshow": {
     "slide_type": "subslide"
    }
   },
   "source": [
    "#### A avaliação de expressões lógicas é *preguiçosa* (ou em *curto-circuito*)"
   ]
  },
  {
   "cell_type": "markdown",
   "metadata": {
    "slideshow": {
     "slide_type": "fragment"
    }
   },
   "source": [
    "Isto quer dizer que uma expressão é avaliada apenas até que se possa ter certeza sobre seu resultado."
   ]
  },
  {
   "cell_type": "markdown",
   "metadata": {
    "slideshow": {
     "slide_type": "fragment"
    }
   },
   "source": [
    "- Quando `x` é `False`, o resultado de `x and y` é `x` (e `y` não é avaliado). Caso contrário, o resultado é `y`."
   ]
  },
  {
   "cell_type": "markdown",
   "metadata": {
    "slideshow": {
     "slide_type": "fragment"
    }
   },
   "source": [
    "- Quando `x` é `True`, o resultado de `x or y` é `x` (e `y` não é avaliado). Caso contrário, o resultado é `y`."
   ]
  },
  {
   "cell_type": "code",
   "execution_count": 65,
   "metadata": {
    "slideshow": {
     "slide_type": "-"
    }
   },
   "outputs": [
    {
     "data": {
      "text/plain": [
       "5"
      ]
     },
     "execution_count": 65,
     "metadata": {},
     "output_type": "execute_result"
    }
   ],
   "source": [
    "5 or 4"
   ]
  },
  {
   "cell_type": "markdown",
   "metadata": {
    "slideshow": {
     "slide_type": "subslide"
    }
   },
   "source": [
    "#### Há uma forma \"aumentada\" de atribuição"
   ]
  },
  {
   "cell_type": "markdown",
   "metadata": {
    "slideshow": {
     "slide_type": "fragment"
    }
   },
   "source": [
    "Comandos como `x = x + 1` são tão comuns que Python implementa uma notação abreviada: `x += 1`."
   ]
  },
  {
   "cell_type": "code",
   "execution_count": 69,
   "metadata": {},
   "outputs": [
    {
     "data": {
      "text/plain": [
       "0.625"
      ]
     },
     "execution_count": 69,
     "metadata": {},
     "output_type": "execute_result"
    }
   ],
   "source": [
    "a = 5\n",
    "a /= 8\n",
    "a"
   ]
  },
  {
   "cell_type": "code",
   "execution_count": null,
   "metadata": {},
   "outputs": [],
   "source": []
  },
  {
   "cell_type": "markdown",
   "metadata": {
    "slideshow": {
     "slide_type": "subslide"
    }
   },
   "source": [
    "#### Operadores relacionais podem ser encadeados"
   ]
  },
  {
   "cell_type": "markdown",
   "metadata": {
    "slideshow": {
     "slide_type": "fragment"
    }
   },
   "source": [
    "Expressões como `0 <= x and x < n` são tão comuns que Python permite encadear as comparações: `0 <= x < n`."
   ]
  },
  {
   "cell_type": "code",
   "execution_count": 73,
   "metadata": {},
   "outputs": [
    {
     "data": {
      "text/plain": [
       "True"
      ]
     },
     "execution_count": 73,
     "metadata": {},
     "output_type": "execute_result"
    }
   ],
   "source": [
    "3 < 5 and 5  == True"
   ]
  },
  {
   "cell_type": "markdown",
   "metadata": {
    "slideshow": {
     "slide_type": "fragment"
    }
   },
   "source": [
    "##### Dica\n",
    "- Evite efeitos colaterais e comandos \"*originais e criativos*\"."
   ]
  },
  {
   "cell_type": "markdown",
   "metadata": {
    "slideshow": {
     "slide_type": "subslide"
    }
   },
   "source": [
    "#### É possível criar uma expressão condicional\n",
    "Um comando como\n",
    "```python\n",
    "if condição:\n",
    "    x = valor_cond_ok\n",
    "else:\n",
    "    x = valor_cond_nok\n",
    "```\n",
    "é equivalente à seguinte *expressão condicional* (que também é avaliada de forma preguiçosa)\n",
    "```python\n",
    "x = valor_cond_ok if condição else valor_cond_nok\n",
    "```"
   ]
  },
  {
   "cell_type": "markdown",
   "metadata": {},
   "source": []
  },
  {
   "cell_type": "markdown",
   "metadata": {
    "slideshow": {
     "slide_type": "skip"
    }
   },
   "source": [
    "## Comandos compostos"
   ]
  },
  {
   "cell_type": "markdown",
   "metadata": {
    "slideshow": {
     "slide_type": "skip"
    }
   },
   "source": [
    "Um *comando composto* contém (grupos de) outros comandos cuja execução ele afeta de alguma forma. \n",
    "\n",
    "Um comando composto consiste de uma ou mais *cláusulas*.  \n",
    "Uma cláusula consiste de um *cabeçalho* e uma *suite*.\n",
    "\n",
    "Todos os cabeçalhos das cláusulas de um comando composto ficam no mesmo nível de indentação.\n",
    "Cada cabeçalho de um comando composto começa com uma palavra-chave específica e termina em dois-pontos.\n",
    "\n",
    "Uma suite é um grupo de comandos controlado por uma cláusula.  \n",
    "Todos os comandos de uma suite ficam no mesmo nível de indentação, um a mais do que o nível do cabeçalho correspondente."
   ]
  },
  {
   "cell_type": "markdown",
   "metadata": {
    "slideshow": {
     "slide_type": "skip"
    }
   },
   "source": [
    "### Comando **if**\n",
    "**`if`** é o comando condicional de Python e tem a forma geral \n",
    "```python\n",
    "if expressão:\n",
    "    suite\n",
    "elif expressão:\n",
    "    suite\n",
    "elif expressão:\n",
    "    suite\n",
    "\n",
    "else:\n",
    "    suite\n",
    "```\n",
    "\n",
    "Apenas a cláusula **`if`** é obrigatória. As cláusulas **`elif`** e **`else`** são opcionais."
   ]
  },
  {
   "cell_type": "markdown",
   "metadata": {
    "slideshow": {
     "slide_type": "skip"
    }
   },
   "source": [
    "### Comando if ...\n",
    "Um comando com a forma geral\n",
    "if (expressão) comando\n",
    "avalia a expressão  e\n",
    "se o resultado for diferente de zero, executa o comando.\n",
    "se o resultado for igual a zero, não faz nada."
   ]
  },
  {
   "cell_type": "markdown",
   "metadata": {
    "slideshow": {
     "slide_type": "skip"
    }
   },
   "source": [
    "### Exemplo de uso do comando if...\n",
    "O comando if... é útil principalmente quando você precisa corrigir ou ajustar um valor calculado anteriormente.\n",
    "Exemplo: Fazer max igual ao maior entre a e b.\n",
    "O comando max = a; resolve alguns casos, mas não todos.\n",
    "Ele não funciona quando a não é a variável com o maior valor e, nesse caso, o resultado precisa ser corrigido.\n",
    "Isso pode ser conseguido fazendo-se\n",
    "max = a;  ",
    "if (a < b) ",
    "   max = b;"
   ]
  },
  {
   "cell_type": "markdown",
   "metadata": {
    "slideshow": {
     "slide_type": "slide"
    }
   },
   "source": [
    "## Exemplo: *Ordenar três valores inteiros*\n",
    "**Problema**  \n",
    "Dados três valores inteiros exibi-los em ordem crescente.\n",
    "\n",
    "**Entrada**  \n",
    "Três valores inteiros quaisquer que devem ser associados a três variáveis `a`, `b` e `c`.\n",
    "\n",
    "**Saída**  \n",
    "Um comando `print(a, b, c)` que exiba os mesmos valores lidos, mas em ordem crescente."
   ]
  },
  {
   "cell_type": "markdown",
   "metadata": {
    "slideshow": {
     "slide_type": "subslide"
    }
   },
   "source": [
    "É possível resolver esse problema usando um único comando?"
   ]
  },
  {
   "cell_type": "markdown",
   "metadata": {
    "slideshow": {
     "slide_type": "fragment"
    }
   },
   "source": [
    "- Não."
   ]
  },
  {
   "cell_type": "markdown",
   "metadata": {
    "slideshow": {
     "slide_type": "fragment"
    }
   },
   "source": [
    "É possível resolver esse problema usando uma sequência de comandos?"
   ]
  },
  {
   "cell_type": "markdown",
   "metadata": {
    "slideshow": {
     "slide_type": "fragment"
    }
   },
   "source": [
    "- Sim, o problema pode ser resolvido por uma sequência de comandos, cada um deles desfazendo uma possível inversão entre os valores lidos."
   ]
  },
  {
   "cell_type": "markdown",
   "metadata": {
    "slideshow": {
     "slide_type": "subslide"
    }
   },
   "source": [
    "Como é que se desfaz uma inversão?"
   ]
  },
  {
   "cell_type": "markdown",
   "metadata": {
    "slideshow": {
     "slide_type": "fragment"
    }
   },
   "source": [
    "- Permutando os valores de duas variáveis que estejam fora de ordem."
   ]
  },
  {
   "cell_type": "markdown",
   "metadata": {
    "slideshow": {
     "slide_type": "subslide"
    }
   },
   "source": [
    "Como é que se permutam os valores de duas variáveis `x` e `y`?"
   ]
  },
  {
   "cell_type": "markdown",
   "metadata": {
    "slideshow": {
     "slide_type": "fragment"
    }
   },
   "source": [
    "- Usando uma variável auxiliar ou uma *atribuição múltipla*."
   ]
  },
  {
   "cell_type": "markdown",
   "metadata": {
    "slideshow": {
     "slide_type": "fragment"
    }
   },
   "source": [
    "```python\n",
    "t = x\n",
    "x = y\n",
    "y = t\n",
    "```"
   ]
  },
  {
   "cell_type": "markdown",
   "metadata": {
    "slideshow": {
     "slide_type": "fragment"
    }
   },
   "source": [
    "ou\n",
    "```python\n",
    "x, y = y, x\n",
    "```"
   ]
  },
  {
   "cell_type": "markdown",
   "metadata": {
    "slideshow": {
     "slide_type": "fragment"
    }
   },
   "source": [
    "***Nota***: numa atribuição múltipla, primeiro são avaliadas todas as expressões, na ordem em que aparecem no comando, e depois são feitas todas as associações, na mesma ordem."
   ]
  },
  {
   "cell_type": "markdown",
   "metadata": {
    "slideshow": {
     "slide_type": "slide"
    }
   },
   "source": [
    "### Solução: Ordenar três valores inteiros"
   ]
  },
  {
   "cell_type": "code",
   "execution_count": 76,
   "metadata": {
    "slideshow": {
     "slide_type": "fragment"
    }
   },
   "outputs": [
    {
     "name": "stdout",
     "output_type": "stream",
     "text": [
      "Primeiro valor? 12\n",
      "Segundo valor? 12\n",
      "Terceiro valor? 6\n",
      "6 12 12\n"
     ]
    }
   ],
   "source": [
    "x = int(input(\"Primeiro valor? \"))\n",
    "y = int(input(\"Segundo valor? \"))\n",
    "z = int(input(\"Terceiro valor? \"))\n",
    "if x > y:\n",
    "    x, y = y, x\n",
    "if x > z:\n",
    "    x, z = z, x\n",
    "if y > z:\n",
    "    y, z = z, y\n",
    "print(x, y, z)"
   ]
  },
  {
   "cell_type": "code",
   "execution_count": null,
   "metadata": {
    "slideshow": {
     "slide_type": "skip"
    }
   },
   "outputs": [],
   "source": [
    "x = int(input(\"Primeiro valor? \"))\n",
    "y = int(input(\"Segundo valor? \"))\n",
    "z = int(input(\"Terceiro valor? \"))\n",
    "if x > y:\n",
    "    x, y = y, x\n",
    "if x > z:\n",
    "    x, z = z, x\n",
    "if y > z:\n",
    "    y, z = z, y\n",
    "print(x, y, z)"
   ]
  },
  {
   "cell_type": "markdown",
   "metadata": {
    "slideshow": {
     "slide_type": "slide"
    }
   },
   "source": [
    "## Exemplo: *Avaliar se um dado ano é bissexto*\n",
    "**Problema**  \n",
    "Avaliar se um dado ano é bissexto ou não.\n",
    "\n",
    "**Entrada**  \n",
    "Um inteiro positivo representando o ano.\n",
    "\n",
    "**Saída**  \n",
    "\"`XXXX é um ano bissexto.`\" ou \"`XXXX não é um ano bissexto.`\"\n",
    "\n",
    "**Propriedades**  \n",
    "Um ano é bissexto se ele for divisível por 4 mas não por 100, exceto se for divisível por 400."
   ]
  },
  {
   "cell_type": "markdown",
   "metadata": {
    "slideshow": {
     "slide_type": "slide"
    }
   },
   "source": [
    "## Desenvolvimento do algoritmo"
   ]
  },
  {
   "cell_type": "code",
   "execution_count": null,
   "metadata": {
    "slideshow": {
     "slide_type": "subslide"
    }
   },
   "outputs": [],
   "source": [
    "ano = \n",
    "ano_bissexto = # ...\n",
    "if ano_bissexto:\n",
    "    \n",
    "else:\n",
    "    "
   ]
  },
  {
   "cell_type": "code",
   "execution_count": null,
   "metadata": {
    "slideshow": {
     "slide_type": "skip"
    }
   },
   "outputs": [],
   "source": [
    "ano = int(input(\"Ano a ser testado? \"))\n",
    "ano_bissexto = # ...\n",
    "if ano_bissexto:\n",
    "    print(ano, \"é bissexto.\")\n",
    "else:\n",
    "    print(ano, \"não é bissexto.\")"
   ]
  },
  {
   "cell_type": "markdown",
   "metadata": {
    "slideshow": {
     "slide_type": "slide"
    }
   },
   "source": [
    "### Desmontando a  complexidade de uma condição\n",
    "\n",
    "Um ano é bissexto se ele for divisível por 4 mas não por 100, exceto se for divisível por 400."
   ]
  },
  {
   "cell_type": "code",
   "execution_count": null,
   "metadata": {
    "slideshow": {
     "slide_type": "fragment"
    }
   },
   "outputs": [],
   "source": [
    "ano_div_4 = # ...\n",
    "ano_div_100 = # ...\n",
    "ano_div_400 = # ...\n",
    "ano_bissexto = # ..."
   ]
  },
  {
   "cell_type": "code",
   "execution_count": null,
   "metadata": {
    "slideshow": {
     "slide_type": "skip"
    }
   },
   "outputs": [],
   "source": [
    "### Desmontando a  complexidade de uma condição\n",
    "ano = 1900\n",
    "ano_div_4 = (ano % 4 == 0)\n",
    "ano_div_100 = (ano % 100 == 0)\n",
    "ano_div_400 = (ano % 400 == 0)\n",
    "ano_bissexto = ano_div_4 and not ano_div_100 or ano_div_400\n",
    "ano_bissexto"
   ]
  },
  {
   "cell_type": "markdown",
   "metadata": {
    "slideshow": {
     "slide_type": "skip"
    }
   },
   "source": [
    "### Desmontando a  complexidade de uma condição\n",
    "\n",
    "Um ano é bissexto se ele for divisível por 4 mas não por 100, exceto se for divisível por 400.\n",
    "```python\n",
    "ano_div_4 = (ano % 4 == 0)\n",
    "ano_div_100 = (ano % 100 == 0)\n",
    "ano_div_400 = (ano % 400 == 0)\n",
    "ano_bissexto = ano_div_4 and not ano_div_100 or ano_div_400\n",
    "```"
   ]
  },
  {
   "cell_type": "markdown",
   "metadata": {
    "slideshow": {
     "slide_type": "slide"
    }
   },
   "source": [
    "### Solução: *Avaliar se um dado ano é bissexto*"
   ]
  },
  {
   "cell_type": "code",
   "execution_count": null,
   "metadata": {
    "slideshow": {
     "slide_type": "-"
    }
   },
   "outputs": [],
   "source": [
    "ano = int(input(\"Ano a ser testado? \"))\n",
    "ano_div_4 = (ano % 4 == 0)\n",
    "ano_div_100 = (ano % 100 == 0)\n",
    "ano_div_400 = (ano % 400 == 0)\n",
    "ano_bissexto = ano_div_4 and not ano_div_100 or ano_div_400\n",
    "if ano_bissexto:\n",
    "    print(ano, \"é bissexto.\")\n",
    "else:\n",
    "    print(ano, \"não é bissexto.\")"
   ]
  },
  {
   "cell_type": "markdown",
   "metadata": {
    "slideshow": {
     "slide_type": "skip"
    }
   },
   "source": [
    "### Expressões e comandos\n",
    "Ordenar três inteiros\n",
    "Enunciado\n",
    "Dadas três variáveis inteiras 𝑎, 𝑏 e 𝑐 permutar seus valores, se necessário, de modo que 𝑎≤𝑏≤𝑐.\n",
    "Entrada\n",
    "Três inteiros representando os valores iniciais das variáveis 𝑎, 𝑏 e 𝑐.\n",
    "Saída\n",
    "Os valores finais das variáveis 𝑎, 𝑏 e 𝑐, satisfazendo a condição do enunciado."
   ]
  },
  {
   "cell_type": "markdown",
   "metadata": {
    "slideshow": {
     "slide_type": "skip"
    }
   },
   "source": [
    "### Exemplo\n",
    "Algoritmo\n",
    "{\n",
    "    a, b, c  I;\n",
    "    ler a, b, c;\n",
    "    se (a > b)\n",
    "       permutar os valores de a e b;\n",
    "    se (a > c)\n",
    "       permutar os valores de a e c;\n",
    "    se (b > c)\n",
    "       permutar os valores de b e c;\n",
    "    exibir a, b, c;\n",
    "}"
   ]
  },
  {
   "cell_type": "markdown",
   "metadata": {
    "slideshow": {
     "slide_type": "skip"
    }
   },
   "source": [
    "### Ordenar 3 inteiros\n",
    "A função main\n",
    "int main(void) {\n",
    "† † int a, b, c;\n",
    "† † scanf(\"%d%d%d\", &a, &b, &c);\n",
    "† † printf(îEntrada  a = %2d † b = %2d † c = %2d\\n\", a, b, c);\n",
    "    if (a > b) {\n",
    "        // para permutar 2 variáveis precisamos de uma variável auxiliar\n",
    "        int t = a; a = b; b = t;\n",
    "    }\n",
    "    if (a > c) {\n",
    "        int t = a; a = c; c = t;\n",
    "    }\n",
    "    if (b > c) {\n",
    "        int t = b; b = c; c = t;\n",
    "    }\n",
    "    printf(”Saída    a = %2d   b = %2d   c = %2d\\n\", a, b, c);\n",
    "    return 0;\n",
    "}\n",
    "Ordenar 3 inteiros"
   ]
  },
  {
   "cell_type": "markdown",
   "metadata": {
    "slideshow": {
     "slide_type": "skip"
    }
   },
   "source": [
    "### Comando if...else if...\n",
    "Torna possível implementar uma tomada de decisão com múltiplos caminhos.\n",
    "if (expressão1)\u000b",
    "   comando1\u000b",
    "else if (expressão2)\u000b",
    "   comando2\u000b",
    "else if (expressão3)\u000b",
    "   comando3\u000b",
    "...\u000b",
    "else\u000b",
    "   comandon\n",
    "As expressões são avaliadas em sequência até que uma tenha valor diferente de zero, o que causa a execução do comando associado a ela.\n",
    "Se nenhuma expressão tiver valor diferente de zero, o comandon é executado.\n",
    "O conjunto else comandon é opcional."
   ]
  },
  {
   "cell_type": "markdown",
   "metadata": {
    "slideshow": {
     "slide_type": "skip"
    }
   },
   "source": [
    "### Qual a diferença? Qual o resultado?\n",
    "Quando é que…\n",
    "𝑧 recebe o valor de 𝑎?\n",
    "𝑧 recebe o valor de 𝑏?\n",
    "O que acontece se 𝑛≤0?\n",
    "Um else sempre se agrega ao if sem else mais próximo sintaticamente ."
   ]
  },
  {
   "cell_type": "markdown",
   "metadata": {
    "slideshow": {
     "slide_type": "skip"
    }
   },
   "source": [
    "### Qual a diferença? Qual o resultado?\n",
    "Quando é que…\n",
    "𝑧 recebe o valor de 𝑎?\n",
    "𝑧 recebe o valor de 𝑏?\n",
    "O que acontece quando \u000b",
    "\t𝑛>0 e 𝑎≤𝑏 ?"
   ]
  },
  {
   "cell_type": "markdown",
   "metadata": {
    "slideshow": {
     "slide_type": "slide"
    }
   },
   "source": [
    "### Cálculo do Imposto de Renda Retido na Fonte\n",
    "Em 2017, o imposto de renda retido na fonte das pessoas físicas empregadas no Brasil, está sendo calculado conforme a tabela de alíquotas progressivas ao lado.\n",
    "Dada a renda mensal de uma pessoa, deseja-se calcular o valor do imposto de renda retido.\n",
    "\n",
    "<img src=\"img/tabelaIRPF2018.png\" />"
   ]
  },
  {
   "cell_type": "markdown",
   "metadata": {
    "slideshow": {
     "slide_type": "skip"
    }
   },
   "source": [
    "Renda | Alíquota | Dedução\n",
    ":---: | :---:    | :---:\n",
    "Até 1.903,98\t| 0 | 0\n",
    "De 1.903,99 até 2.826,65 | 7,5 | 142,80\n",
    "De 2.826,66 até 3.751,05 | \t15,0 | 354,80\n",
    "De 3.751,06 até 4.664,68 | \t22,5 | 636,13\n",
    "Acima de 4.664,68 | 27,5 | 869,36"
   ]
  },
  {
   "cell_type": "markdown",
   "metadata": {
    "slideshow": {
     "slide_type": "slide"
    }
   },
   "source": [
    "## Exemplo: *Cálculo do Imposto de Renda Retido na Fonte*\n",
    "Em 2018, o imposto de renda retido na fonte das pessoas físicas empregadas no Brasil, está sendo calculado conforme a tabela de alíquotas progressivas ao lado.\n",
    "Dada a renda mensal de uma pessoa, deseja-se calcular o valor do imposto de renda retido.\n",
    "\n",
    "    Renda                    | Alíquota | Dedução\n",
    "    -------------------------|----------|--------\n",
    "    Até 1.903,98             |      0,0 |   0,00\n",
    "    De 1.903,99 até 2.826,65 |      7,5 | 142,80\n",
    "    De 2.826,66 até 3.751,05 |     15,0 | 354,80\n",
    "    De 3.751,06 até 4.664,68 |     22,5 | 636,13\n",
    "    Acima de 4.664,68        |     27,5 | 869,36"
   ]
  },
  {
   "cell_type": "markdown",
   "metadata": {
    "slideshow": {
     "slide_type": "slide"
    }
   },
   "source": [
    "### Desenvolvimento do algoritmo\n",
    "#### Como atacar um problema como esse?\n",
    "Uma boa estratégia é supor o problema resolvido e tentar imaginar qual terá sido a última ação executada.\n",
    "\n",
    "Neste caso, supondo o problema resolvido, a última ação deve ter sido…\n",
    "\n",
    "   ```python\n",
    "   print(imposto)\n",
    "   ```\n",
    "\n",
    "Agora repita o raciocínio, supondo o algoritmo no estado em que está, qual terá sido a última ação executada?"
   ]
  },
  {
   "cell_type": "markdown",
   "metadata": {
    "slideshow": {
     "slide_type": "slide"
    }
   },
   "source": [
    "### Desenvolvimento do algoritmo\n",
    "Antes de mostrar `imposto`, é preciso calculá-lo e esta provavelmente foi a ação anterior.  \n",
    "O problema sugere que `imposto` é calculado pela seguinte expressão\n",
    "```python\n",
    "imposto = renda * aliquota - deducao\n",
    "```\n",
    "Incorporando esse cálculo ao nosso algoritmo obtemos  \n",
    "```python\n",
    "# ...\n",
    "imposto = renda * aliquota – deducao;\n",
    "print(imposto)\n",
    "```"
   ]
  },
  {
   "cell_type": "markdown",
   "metadata": {
    "slideshow": {
     "slide_type": "slide"
    }
   },
   "source": [
    "### Desenvolvimento do algoritmo\n",
    "E agora? Para calcular `imposto` precisamos de `renda`, `aliquota` e `deducao`.  \n",
    "`renda` é um dado do problema e pode ser lida."
   ]
  },
  {
   "cell_type": "markdown",
   "metadata": {
    "slideshow": {
     "slide_type": "fragment"
    }
   },
   "source": [
    "Vamos acrescentar essa ação ao nosso algoritmo, desta vez no início.\n",
    "```python\n",
    "renda = float(input(\"Qual a renda? \"))\n",
    "# ...\n",
    "imposto = renda * aliquota – deducao;\n",
    "print(imposto)\n",
    "```"
   ]
  },
  {
   "cell_type": "markdown",
   "metadata": {
    "slideshow": {
     "slide_type": "fragment"
    }
   },
   "source": [
    "Conhecida `renda`, é preciso determinar a `aliquota` e a `deducao` correspondentes.\n",
    "\n",
    "Você consegue criar um comando que resolva completamente esse problema?"
   ]
  },
  {
   "cell_type": "markdown",
   "metadata": {
    "slideshow": {
     "slide_type": "fragment"
    }
   },
   "source": [
    "Não… e agora?"
   ]
  },
  {
   "cell_type": "markdown",
   "metadata": {
    "slideshow": {
     "slide_type": "slide"
    }
   },
   "source": [
    "### Desenvolvimento do algoritmo\n",
    "Você consegue criar um comando que resolva parcialmente o problema?"
   ]
  },
  {
   "cell_type": "markdown",
   "metadata": {
    "slideshow": {
     "slide_type": "fragment"
    }
   },
   "source": [
    "Sim. Quando `renda <= 1903.98`, `aliquota` e `deducao` são iguais a zero.\n",
    "\n",
    "Como isso se aplica a apenas alguns casos, essa ação precisa aparecer num comando condicional.\n",
    "```python\n",
    "if renda <= 1903.98:\n",
    "    aliquota, deducao = 0, 0\n",
    "```\n",
    "Agora é preciso tratar os casos não cobertos por esse comando.  \n",
    "Como fazer isso?"
   ]
  },
  {
   "cell_type": "markdown",
   "metadata": {
    "slideshow": {
     "slide_type": "slide"
    }
   },
   "source": [
    "### Desenvolvimento do algoritmo\n",
    "Examinando a tabela, vemos que quando `1903.98 < renda <= 2826.65`, a `aliquota` é 7.5% e a `deducao` é de 142.80.\n",
    "\n",
    "É fácil incluir esse caso no nosso comando...\n",
    "```python\n",
    "if renda <= 1903.98:\n",
    "    aliquota, deducao = 0, 0\n",
    "elif 1903.99 <= renda <= 2826.65:\n",
    "    aliquota, deducao = 0.075, 142.80\n",
    "```"
   ]
  },
  {
   "cell_type": "markdown",
   "metadata": {
    "slideshow": {
     "slide_type": "fragment"
    }
   },
   "source": [
    "Será possível simplificar um pouco esse comando?"
   ]
  },
  {
   "cell_type": "markdown",
   "metadata": {
    "slideshow": {
     "slide_type": "subslide"
    }
   },
   "source": [
    "Sim, se observarmos que os casos de `renda <= 1903.98` já foram apanhados pela cláusula anterior, nosso comando pode ser simplificado para\n",
    "```python\n",
    "if renda <= 1903.98:\n",
    "    aliquota, deducao = 0, 0\n",
    "elif renda <= 2826.65:\n",
    "    aliquota, deducao = 0.075, 142.80\n",
    "```"
   ]
  },
  {
   "cell_type": "markdown",
   "metadata": {
    "slideshow": {
     "slide_type": "subslide"
    }
   },
   "source": [
    "E agora podemos concluir o desenvolvimento...\n",
    "```python\n",
    "if renda <= 1903.98:\n",
    "    aliquota, deducao = 0, 0\n",
    "elif renda <= 2826.65:\n",
    "    aliquota, deducao = 0.075, 142.80\n",
    "elif renda <= 3751.05:\n",
    "    aliquota, deducao = 0.150, 354.80\n",
    "elif renda <= 4664.68:\n",
    "    aliquota, deducao = 0.225, 636.13\n",
    "else:\n",
    "    aliquota, deducao = 0.275, 869.36\n",
    "```"
   ]
  },
  {
   "cell_type": "markdown",
   "metadata": {
    "slideshow": {
     "slide_type": "slide"
    }
   },
   "source": [
    "### Solução: *Cálculo do Imposto de Renda Retido na Fonte*"
   ]
  },
  {
   "cell_type": "code",
   "execution_count": 26,
   "metadata": {
    "slideshow": {
     "slide_type": "fragment"
    }
   },
   "outputs": [
    {
     "name": "stdout",
     "output_type": "stream",
     "text": [
      "Qual a renda? 2826.66\n",
      "Imposto a ser retido = 69.19899999999996\n"
     ]
    }
   ],
   "source": [
    "renda = float(input(\"Qual a renda? \"))\n",
    "if renda <= 1903.98:\n",
    "    aliquota, deducao = 0, 0\n",
    "elif renda <= 2826.65:\n",
    "    aliquota, deducao = 0.075, 142.80\n",
    "elif renda <= 3751.05:\n",
    "    aliquota, deducao = 0.150, 354.80\n",
    "elif renda <= 4664.68:\n",
    "    aliquota, deducao = 0.225, 636.13\n",
    "else:\n",
    "    aliquota, deducao = 0.275, 869.36\n",
    "imposto = renda * aliquota - deducao;\n",
    "print(\"Imposto a ser retido =\", imposto)"
   ]
  },
  {
   "cell_type": "markdown",
   "metadata": {
    "slideshow": {
     "slide_type": "slide"
    }
   },
   "source": [
    "### Exemplo: Cálculo do Imposto de Renda Retido na Fonte\n",
    "Desenvolvimento do algoritmo\n",
    "Repetindo esse raciocínio, chegamos a um algoritmo completo…\n",
    "{\n",
    "   double renda, aliquota, deducao, imposto;\n",
    "   se (renda <= 1.903,98)\n",
    "      { aliquota = 0; imposto = 0; }\n",
    "   senão se (renda <= 2826.65)\n",
    "      { aliquota = 0.075; deducao = 142.80; }\n",
    "   senão se (renda <= 3751.05)\n",
    "      { aliquota = 0.150; deducao = 354.80; }\n",
    "   senão se (renda <= 4664.69)\n",
    "      { aliquota = 0.225; deducao = 636.13; }\n",
    "   senão // renda > 4664.69\n",
    "      { aliquota = 0.275; deducao = 869.36; }\n",
    "   imposto = aliquota * renda – deducao;\n",
    "   mostrar renda, aliquota, deducao, imposto;\n",
    "}"
   ]
  },
  {
   "cell_type": "markdown",
   "metadata": {
    "slideshow": {
     "slide_type": "skip"
    }
   },
   "source": [
    "### Exemplo: Cálculo do Imposto de Renda Retido na Fonte\n",
    "Cuidados ao usar um comando if...else if... \n",
    "Procure reservar o else final para cobrir as condições de erro.\n",
    "Nesse caso, assegure-se de que expressão1, expressão2, expressão3, … cobrem todos os casos corretos possíveis.\n",
    "Não se esqueça de que para que o comandoi seja executado é preciso que \n",
    "expressãoi seja verdadeira (isto é, diferente de zero) e que \n",
    "expressão1, expressão2, … expressãoi-1 sejam falsas (isto é, iguais a zero)."
   ]
  },
  {
   "cell_type": "markdown",
   "metadata": {
    "slideshow": {
     "slide_type": "skip"
    }
   },
   "source": [
    "### O comando switch … case … default … ;\n",
    "O comando switch também implementa uma decisão múltipla, tipicamente adotada em problemas de seleção.\n",
    "Ele compara o resultado de uma expressão com várias constantes inteiras e desvia a execução de acordo com o resultado.\n",
    "A forma geral do comando é\n",
    "switch (expressão) {\u000b",
    "   case expressão-constante1 : comandos1\u000b",
    "   case expressão-constante2 : comandos2\u000b",
    "     …\u000b",
    "   default : comandos\u000b",
    "}"
   ]
  },
  {
   "cell_type": "markdown",
   "metadata": {
    "slideshow": {
     "slide_type": "skip"
    }
   },
   "source": [
    "### Propriedades do comando switch\n",
    "Cada case é rotulado com uma ou mais constantes ou expressões constantes inteiras.\n",
    "Todos os rótulos devem ser diferentes.\n",
    "Se o resultado da expressão coincidir com um rótulo, a execução continua nos comandos correspondentes.\n",
    "O case rotulado default é opcional e serve para os casos em que o valor da expressão não coincide com o de qualquer rótulo.\n",
    "Os cases com rótulos numéricos e o default podem aparecer em qualquer ordem."
   ]
  },
  {
   "cell_type": "markdown",
   "metadata": {
    "slideshow": {
     "slide_type": "skip"
    }
   },
   "source": [
    "### Cuidados com o comando switch\n",
    "Quando o valor da expressão coincide com o de um rótulo, a execução continua nos comandos correspondentes.\n",
    "No entanto, a execução não para quando esses comandos terminam. Ela continua até o final do switch.\n",
    "Para interromper esse fluxo e desviar diretamente para o fim do switch é preciso usar um comando break."
   ]
  },
  {
   "cell_type": "markdown",
   "metadata": {
    "slideshow": {
     "slide_type": "skip"
    }
   },
   "source": [
    "### Imprimir o nome do dia da semana\n",
    "Enunciado\n",
    "Dado um inteiro entre 1 e 7 mostrar o nome do dia da semana correspondente.\n",
    "Entrada\n",
    "Um inteiro no intervalo 1 (domingo) a 7 (sábado).\n",
    "Saída\n",
    "O nome do dia da semana correspondente ao inteiro lido."
   ]
  },
  {
   "cell_type": "markdown",
   "metadata": {
    "slideshow": {
     "slide_type": "skip"
    }
   },
   "source": [
    "### Exemplo\n",
    "A função main\n",
    "int main(void) {\n",
    "   int dia;\n",
    "   scanf(\"%d\", &dia);\n",
    "   switch (dia) {\n",
    "      case 1 :\n",
    "         printf(\"domingo\\n\"); \n",
    "         break;\n",
    "      case 2 :\n",
    "         printf(\"segunda-feira\\n\");\n",
    "         break;\n",
    "      case 3 :\n",
    "         printf(\"terça-feira\\n\"); \n",
    "         break;\n",
    "      case 4 :\n",
    "         printf(\"quarta-feira\\n\"); \n",
    "         break;\n",
    "\n",
    "      case 5 :\n",
    "         printf(\"quinta-feira\\n\"); \n",
    "         break;\n",
    "      case 6 :\n",
    "         printf(\"sexta-feira\\n\"); \n",
    "         break;\n",
    "      case 7 :\n",
    "         printf(\"sábado\\n\"); \n",
    "         break;\n",
    "      default :\n",
    "         printf(\"%d não é um dia de ”\u000b",
    "            ”semana válido.\\n\", dia);\n",
    "   }\n",
    "   return 0;\n",
    "}"
   ]
  },
  {
   "cell_type": "markdown",
   "metadata": {
    "slideshow": {
     "slide_type": "skip"
    }
   },
   "source": [
    "### Exemplo: Imprimir o nome do dia da semana\n",
    "Implementar uma calculadora básica\n",
    "Enunciado\n",
    "Dados dois valores reais e um operador aritmético representado por um caractere, mostrar o resultado da operação correspondente sobre os valores lidos.\n",
    "Entrada\n",
    "Dois valores reais e um caractere representando uma operação aritmética básica ( +, −, ∗ ou / ).\n",
    "Saída\n",
    "O resultado da operação indicada sobre os valores lidos ou uma mensagem de erro caso o caractere lido não corresponda a qualquer um dos operadores válidos.\n",
    "Exemplo\n",
    "Sobre representação de caracteres em C\n",
    "A representação de caracteres em C obedece um código internacional conhecido como ASCII.\n",
    "No código ASCII cada caractere é representado em 7 bits, conforme a tabela ao lado.\n",
    "Há uma extensão dessa tabela, que usa um bit a mais de modo a permitir a representação de mais caracteres (as letras acentuadas, por exemplo), mas nem todas as implementações de C a aceitam."
   ]
  },
  {
   "cell_type": "markdown",
   "metadata": {
    "slideshow": {
     "slide_type": "skip"
    }
   },
   "source": [
    "### Sobre representação de caracteres em C\n",
    "Em C, caracteres pertencem ao tipo char.\n",
    "Uma constante do tipo char é representada entre apóstrofos (aspas simples). Por exemplo:\n",
    " 'a',  'x',  '5',  '+'\n",
    "alternativamente, um caractere pode ser representado pelo valor do seu código na tabela ASCII, em formato octal ou hexadecimal. Por exemplo, 'A' '\\101' e '\\x41' representam o mesmo caractere (letra A maiúscula).\n",
    "Uma variável do tipo char pode aparecer em qualquer expressão onde seja aceitável uma variável do tipo int.\n",
    "A função main\n",
    "int main(void) {\n",
    "   char operador;\n",
    "   double numero1, numero2;\n",
    "   printf(\"Entre com dois números e um operador (+, -, *, /):\\n\");\n",
    "   scanf(\"%lf%lf%c\", &numero1, &numero2, &operador);\n",
    "   switch(operador) {\n",
    "      case '+':\n",
    "         printf(\"%.3lf %c %.3lf = %.3lf\\n\", numero1, operador, numero2, numero1 + numero2); break;\n",
    "      case '-':\n",
    "         printf(\"%.3lf %c %.3lf = %.3lf\\n\", numero1, operador, numero2, numero1 - numero2); break;\n",
    "      case '*':\n",
    "         printf(\"%.3lf %c %.3lf = %.3lf\\n\", numero1, operador, numero2, numero1 * numero2); break;\n",
    "      case '/':\n",
    "         printf(\"%.3lf %c %.3lf = %.3lf\\n\", numero1, operador, numero2, numero1 / numero2); break;\n",
    "      default:\n",
    "         printf(\"Erro! Esse operador não existe.\\n\");\n",
    "   }\n",
    "   return 0;\n",
    "}\n",
    "\n",
    "Exemplo: Implementar uma calculadora básica"
   ]
  }
 ],
 "metadata": {
  "celltoolbar": "Slideshow",
  "kernelspec": {
   "display_name": "Python 3",
   "language": "python",
   "name": "python3"
  },
  "language_info": {
   "codemirror_mode": {
    "name": "ipython",
    "version": 3
   },
   "file_extension": ".py",
   "mimetype": "text/x-python",
   "name": "python",
   "nbconvert_exporter": "python",
   "pygments_lexer": "ipython3",
   "version": "3.6.4"
  },
  "latex_envs": {
   "LaTeX_envs_menu_present": true,
   "autocomplete": true,
   "bibliofile": "biblio.bib",
   "cite_by": "apalike",
   "current_citInitial": 1,
   "eqLabelWithNumbers": true,
   "eqNumInitial": 1,
   "hotkeys": {
    "equation": "Ctrl-E",
    "itemize": "Ctrl-I"
   },
   "labels_anchors": false,
   "latex_user_defs": false,
   "report_style_numbering": false,
   "user_envs_cfg": false
  },
  "toc": {
   "nav_menu": {},
   "number_sections": false,
   "sideBar": true,
   "skip_h1_title": false,
   "title_cell": "Table of Contents",
   "title_sidebar": "Contents",
   "toc_cell": false,
   "toc_position": {},
   "toc_section_display": true,
   "toc_window_display": false
  },
  "varInspector": {
   "cols": {
    "lenName": 16,
    "lenType": 16,
    "lenVar": 40
   },
   "kernels_config": {
    "python": {
     "delete_cmd_postfix": "",
     "delete_cmd_prefix": "del ",
     "library": "var_list.py",
     "varRefreshCmd": "print(var_dic_list())"
    },
    "r": {
     "delete_cmd_postfix": ") ",
     "delete_cmd_prefix": "rm(",
     "library": "var_list.r",
     "varRefreshCmd": "cat(var_dic_list()) "
    }
   },
   "types_to_exclude": [
    "module",
    "function",
    "builtin_function_or_method",
    "instance",
    "_Feature"
   ],
   "window_display": false
  }
 },
 "nbformat": 4,
 "nbformat_minor": 2
}
