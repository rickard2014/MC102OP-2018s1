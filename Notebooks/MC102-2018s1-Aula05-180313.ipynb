{
 "cells": [
  {
   "cell_type": "markdown",
   "metadata": {
    "slideshow": {
     "slide_type": "slide"
    }
   },
   "source": [
    "# Três técnicas de solução de problemas"
   ]
  },
  {
   "cell_type": "markdown",
   "metadata": {
    "slideshow": {
     "slide_type": "fragment"
    }
   },
   "source": [
    "## Simplificar o problema resolvendo casos especiais\n",
    "Muitas vezes, mesmo num problema complexo, alguns casos especiais têm solução trivial.\n",
    "\n",
    "A técnica consiste em identificar e tratar separadamente esses casos especiais, reduzindo assim progressivamente o tamanho do problema."
   ]
  },
  {
   "cell_type": "markdown",
   "metadata": {
    "slideshow": {
     "slide_type": "slide"
    }
   },
   "source": [
    "### Exemplo: *Avaliar se um dado ano é bissexto*\n",
    "**Problema**  \n",
    "Avaliar se um dado ano é bissexto ou não.\n",
    "\n",
    "**Entrada**  \n",
    "Um inteiro positivo representando o ano.\n",
    "\n",
    "**Saída**  \n",
    "\"`XXXX é um ano bissexto.`\" ou \"`XXXX não é um ano bissexto.`\"\n",
    "\n",
    "**Propriedades**  \n",
    "Um ano é bissexto se ele for divisível por 4 mas não por 100, exceto se for divisível por 400."
   ]
  },
  {
   "cell_type": "markdown",
   "metadata": {
    "slideshow": {
     "slide_type": "subslide"
    }
   },
   "source": [
    "#### Desenvolvimento do algoritmo"
   ]
  },
  {
   "cell_type": "markdown",
   "metadata": {
    "slideshow": {
     "slide_type": "fragment"
    }
   },
   "source": [
    "Examinando as **Propriedades** vemos que este problema tem solução trivial em alguns casos especiais.\n",
    "\n",
    "Por exemplo, se um ano não for divisível por 4, ele não é bissexto."
   ]
  },
  {
   "cell_type": "markdown",
   "metadata": {
    "slideshow": {
     "slide_type": "subslide"
    }
   },
   "source": [
    "Um recurso útil num caso como este é associar um nome a cada uma das condições que serão verificadas, pois isto contribui muito para o entendimento e para a documentação da solução.\n",
    "\n",
    "Por exemplo, vamos calcular a condição `ano não é divisível por 4` e dar um nome para ela."
   ]
  },
  {
   "cell_type": "code",
   "execution_count": null,
   "metadata": {
    "slideshow": {
     "slide_type": "-"
    }
   },
   "outputs": [],
   "source": [
    "ano_nao_eh_div_4 = ano % 4 != 0 "
   ]
  },
  {
   "cell_type": "markdown",
   "metadata": {
    "slideshow": {
     "slide_type": "skip"
    }
   },
   "source": [
    "```python\n",
    "ano_nao_eh_div_4 = (ano % 4 != 0)\n",
    "```"
   ]
  },
  {
   "cell_type": "markdown",
   "metadata": {
    "slideshow": {
     "slide_type": "fragment"
    }
   },
   "source": [
    "Agora é possível começar a desenhar uma estrutura de comandos condicionais que nos levem à resposta. "
   ]
  },
  {
   "cell_type": "code",
   "execution_count": null,
   "metadata": {
    "slideshow": {
     "slide_type": "-"
    }
   },
   "outputs": [],
   "source": [
    "ano_nao_eh_div_4 = (ano % 4 != 0)\n",
    "if ano_nao_eh_div_4:\n",
    "    print(ano, \"não é vbissexto.\")\n",
    " "
   ]
  },
  {
   "cell_type": "markdown",
   "metadata": {
    "slideshow": {
     "slide_type": "skip"
    }
   },
   "source": [
    "```python\n",
    "if ano_nao_eh_div_4:\n",
    "    print(ano, \"não é bissexto.\")\n",
    "else:\n",
    "    ...\n",
    "```"
   ]
  },
  {
   "cell_type": "markdown",
   "metadata": {
    "slideshow": {
     "slide_type": "fragment"
    }
   },
   "source": [
    "Quais são os casos que ainda precisam ser tratados?"
   ]
  },
  {
   "cell_type": "markdown",
   "metadata": {
    "slideshow": {
     "slide_type": "subslide"
    }
   },
   "source": [
    "Ainda precisam ser tratados os anos divisíveis por 4.\n",
    "\n",
    "Voltando às **Propriedades**, temos que um ano divisível por 4, mas não por 100, é bissexto e também pode ser isolado facilmente."
   ]
  },
  {
   "cell_type": "markdown",
   "metadata": {
    "slideshow": {
     "slide_type": "fragment"
    }
   },
   "source": [
    "Vamos calcular esta nova condição e também associar um nome a ela..."
   ]
  },
  {
   "cell_type": "code",
   "execution_count": null,
   "metadata": {},
   "outputs": [],
   "source": [
    "ano_nao_eh_div_100 = (ano % 100 != 0  )"
   ]
  },
  {
   "cell_type": "markdown",
   "metadata": {
    "slideshow": {
     "slide_type": "skip"
    }
   },
   "source": [
    "```python\n",
    "ano_nao_eh_div_100 = (ano % 100 != 0)\n",
    "```"
   ]
  },
  {
   "cell_type": "markdown",
   "metadata": {
    "slideshow": {
     "slide_type": "subslide"
    }
   },
   "source": [
    "Nosso esboço de solução agora ficará assim..."
   ]
  },
  {
   "cell_type": "code",
   "execution_count": null,
   "metadata": {
    "slideshow": {
     "slide_type": "fragment"
    }
   },
   "outputs": [],
   "source": [
    "ano_nao_eh_div_4 = (ano % 4 != 0)\n",
    "ano_nao_eh_div_100 = (ano % 100 != 0)\n",
    "if ano_nao_eh_div_4:\n",
    "    print(ano, \"não é bissexto.\")\n",
    "elif ano_nao_eh_div_100:\n",
    "    print(ano, \"é bissexto.\")    \n"
   ]
  },
  {
   "cell_type": "markdown",
   "metadata": {
    "slideshow": {
     "slide_type": "skip"
    }
   },
   "source": [
    "```python\n",
    "if ano_nao_eh_div_4:\n",
    "    print(ano, \"não é bissexto.\")\n",
    "elif ano_nao_eh_div_100:\n",
    "    print(ano, \"é bissexto.\")\n",
    "elif ...:\n",
    "    ...\n",
    "```"
   ]
  },
  {
   "cell_type": "markdown",
   "metadata": {
    "slideshow": {
     "slide_type": "subslide"
    }
   },
   "source": [
    "O que deve ainda ser tratado numa nova cláusula?"
   ]
  },
  {
   "cell_type": "markdown",
   "metadata": {
    "slideshow": {
     "slide_type": "fragment"
    }
   },
   "source": [
    "- Devem ser tratados os anos que não foram \"pegos\" pelas cláusulas anteriores, isto é, aqueles divisíveis por 4 e também divisíveis por 100.\n",
    "\n",
    "    - Estes, se forem divisíveis por 400, serão bissextos. Caso contrário, não."
   ]
  },
  {
   "cell_type": "markdown",
   "metadata": {
    "slideshow": {
     "slide_type": "subslide"
    }
   },
   "source": [
    "Vamos repetir o raciocínio anterior, calculando uma nova condição, dando um nome a ela e depois completando nosso comando condicional..."
   ]
  },
  {
   "cell_type": "code",
   "execution_count": null,
   "metadata": {},
   "outputs": [],
   "source": [
    "ano_nao_eh_div_4 = (ano % 4 != 0)\n",
    "ano_nao_eh_div_100 = (ano % 100 != 0)\n",
    "ano_eh_div_400 = (ano % 400 == 0)\n",
    "if ano_nao_eh_div_4:\n",
    "    print(ano, \"não é bissexto.\")\n",
    "elif ano_nao_eh_div_100:\n",
    "    print(ano, \"é bissexto.\")\n",
    "elif ano_eh_div_400:\n",
    "    print(ano, \"é bissexto.\")\n",
    "else:\n",
    "        print(ano, \"não é bissexto.\")"
   ]
  },
  {
   "cell_type": "markdown",
   "metadata": {
    "slideshow": {
     "slide_type": "subslide"
    }
   },
   "source": [
    "O que deve ainda ser tratado numa nova cláusula?"
   ]
  },
  {
   "cell_type": "markdown",
   "metadata": {
    "slideshow": {
     "slide_type": "fragment"
    }
   },
   "source": [
    "- Não há mais nada para ser feito...\n",
    "\n",
    "Como não restam mais casos, o desenvolvimento está concluído..."
   ]
  },
  {
   "cell_type": "markdown",
   "metadata": {
    "slideshow": {
     "slide_type": "subslide"
    }
   },
   "source": [
    "#### Solução 1: *Avaliar se um dado ano é bissexto*"
   ]
  },
  {
   "cell_type": "code",
   "execution_count": 5,
   "metadata": {
    "slideshow": {
     "slide_type": "fragment"
    }
   },
   "outputs": [
    {
     "name": "stdout",
     "output_type": "stream",
     "text": [
      "Qual o ano a ser testado? 1900\n",
      "1900 não é bissexto.\n"
     ]
    }
   ],
   "source": [
    "ano = int(input(\"Qual o ano a ser testado? \"))\n",
    "\n",
    "ano_nao_eh_div_4 = (ano % 4 != 0)\n",
    "ano_nao_eh_div_100 = (ano % 100 != 0)\n",
    "ano_eh_div_400 = (ano % 400 == 0)\n",
    "\n",
    "if ano_nao_eh_div_4:\n",
    "    print(ano, \"não é bissexto.\")\n",
    "elif ano_nao_eh_div_100:\n",
    "    print(ano, \" é bissexto.\")\n",
    "elif ano_eh_div_400:\n",
    "    print(ano, \" é bissexto.\")\n",
    "else:\n",
    "    print(ano, \"não é bissexto.\")"
   ]
  },
  {
   "cell_type": "code",
   "execution_count": null,
   "metadata": {
    "slideshow": {
     "slide_type": "skip"
    }
   },
   "outputs": [],
   "source": [
    "ano = int(input(\"Qual o ano a ser testado? \"))\n",
    "\n",
    "ano_nao_eh_div_4 = (ano % 4 != 0)\n",
    "ano_nao_eh_div_100 = (ano % 100 != 0)\n",
    "ano_eh_div_400 = (ano % 400 == 0)\n",
    "\n",
    "if ano_nao_eh_div_4:\n",
    "    print(ano, \"não é bissexto.\")\n",
    "elif ano_nao_eh_div_100:\n",
    "        print(ano, \" é bissexto.\")\n",
    "elif ano_eh_div_400:\n",
    "    print(ano, \"é bissexto.\")\n",
    "else:\n",
    "    print(ano, \"não é bissexto.\")"
   ]
  },
  {
   "cell_type": "markdown",
   "metadata": {
    "slideshow": {
     "slide_type": "subslide"
    }
   },
   "source": [
    "Neste exemplo, a complexidade da solução foi reduzida passo a passo, retirando-se do problema um a um casos especiais que admitiam soluções triviais."
   ]
  },
  {
   "cell_type": "markdown",
   "metadata": {
    "slideshow": {
     "slide_type": "fragment"
    }
   },
   "source": [
    "Examinando a solução final, vemos que há apenas quatro casos, que convergem para duas soluções distintas.\n",
    "\n",
    "Isso sugere que talvez haja uma outra maneira de resolver este problema: \n",
    "- criar uma condição que reconheça se o ano é bissexto de uma vez só."
   ]
  },
  {
   "cell_type": "markdown",
   "metadata": {
    "slideshow": {
     "slide_type": "subslide"
    }
   },
   "source": [
    "Se isso for possível, nosso programa poderá reduzir-se a..."
   ]
  },
  {
   "cell_type": "markdown",
   "metadata": {
    "slideshow": {
     "slide_type": "fragment"
    }
   },
   "source": [
    "```python\n",
    "ano = int(input(\"Qual o ano a ser testado? \"))\n",
    "ano_eh_bissexto = ...\n",
    "if ano_eh_bissexto:\n",
    "    print(ano, \"é bissexto.\")\n",
    "else:\n",
    "    print(ano, \"não é bissexto.\")\n",
    "```"
   ]
  },
  {
   "cell_type": "code",
   "execution_count": null,
   "metadata": {
    "slideshow": {
     "slide_type": "skip"
    }
   },
   "outputs": [],
   "source": [
    "ano = int(input(\"Qual o ano a ser testado? \"))\n",
    "ano_eh_bissexto = ...\n",
    "if ano_eh_bissexto:\n",
    "    print(ano, \"é bissexto.\")\n",
    "else:\n",
    "    print(ano, \"não é bissexto.\")"
   ]
  },
  {
   "cell_type": "markdown",
   "metadata": {
    "slideshow": {
     "slide_type": "subslide"
    }
   },
   "source": [
    "Para completar o comando de atribuição podemos voltar às **Propriedades**:<br>\n",
    "\"`Um ano é bissexto se ele for divisível por 4 mas não por 100, exceto se for divisível por 400`\"."
   ]
  },
  {
   "cell_type": "markdown",
   "metadata": {
    "slideshow": {
     "slide_type": "fragment"
    }
   },
   "source": [
    "Reescrevendo essa condição de um jeito um pouco mais formal...\n",
    "\n",
    "    ano é bissexto se\n",
    "        (ano é divisível por 4 e ano não é divisível por 100) ou\n",
    "        (ano é divisível por 400)"
   ]
  },
  {
   "cell_type": "markdown",
   "metadata": {
    "cell_style": "center",
    "slideshow": {
     "slide_type": "fragment"
    }
   },
   "source": [
    "O que leva a ...\n",
    "```python\n",
    "ano_eh_bissexto =\n",
    "    (ano_eh_div_4 and ano_nao_eh_div_100) or\n",
    "    (ano_eh_div_400)\n",
    "```"
   ]
  },
  {
   "cell_type": "markdown",
   "metadata": {
    "slideshow": {
     "slide_type": "fragment"
    }
   },
   "source": [
    "... e nos permite concluir o desenvolvimento do nosso programa."
   ]
  },
  {
   "cell_type": "markdown",
   "metadata": {
    "slideshow": {
     "slide_type": "subslide"
    }
   },
   "source": [
    "#### Solução 2: *Avaliar se um dado ano é bissexto*"
   ]
  },
  {
   "cell_type": "code",
   "execution_count": 7,
   "metadata": {
    "slideshow": {
     "slide_type": "fragment"
    }
   },
   "outputs": [
    {
     "name": "stdout",
     "output_type": "stream",
     "text": [
      "Qual o ano a ser testado? 2000\n",
      "2000 é bissexto.\n"
     ]
    }
   ],
   "source": [
    "ano = int(input(\"Qual o ano a ser testado? \"))\n",
    "ano_eh_div_4 = (ano % 4 == 0)\n",
    "ano_nao_eh_div_100 = (ano % 100 != 0)\n",
    "ano_eh_div_400 = (ano % 400 == 0)\n",
    "ano_eh_bissexto = (ano_eh_div_4 and ano_nao_eh_div_100) or \\\n",
    "                  (ano_eh_div_400)\n",
    "if ano_eh_bissexto:\n",
    "    print(ano, \"é bissexto.\")\n",
    "else:\n",
    "    print(ano, \"não é bissexto.\")"
   ]
  },
  {
   "cell_type": "markdown",
   "metadata": {
    "slideshow": {
     "slide_type": "slide"
    }
   },
   "source": [
    "## Supor o problema resolvido e caminhar para trás"
   ]
  },
  {
   "cell_type": "markdown",
   "metadata": {
    "slideshow": {
     "slide_type": "fragment"
    }
   },
   "source": [
    "Uma boa estratégia para resolver um problema complexo é supor o problema resolvido e tentar imaginar qual terá sido a última ação executada.\n",
    "\n",
    "Essa é a estratégia que as crianças adotam para acelerar a solução de problemas de labirinto... e algumas empresas para acelerar a solução de problemas de engenharia (*reverse engineering*)...\n",
    "\n",
    "<img src=\"img/maze-small.png\" />"
   ]
  },
  {
   "cell_type": "markdown",
   "metadata": {
    "slideshow": {
     "slide_type": "subslide"
    }
   },
   "source": [
    "### Exemplo: *Cálculo do Imposto de Renda Retido na Fonte*\n",
    "Em 2018, o imposto de renda retido na fonte das pessoas físicas empregadas no Brasil, está sendo calculado conforme a tabela de alíquotas progressivas ao lado.\n",
    "Dada a renda mensal de uma pessoa, deseja-se calcular o valor do imposto de renda retido.\n",
    "\n",
    "    Renda                    | Alíquota | Dedução\n",
    "    -------------------------|----------|--------\n",
    "    Até 1.903,98             |     0,0% |   0,00\n",
    "    De 1.903,99 até 2.826,65 |     7,5% | 142,80\n",
    "    De 2.826,66 até 3.751,05 |    15,0% | 354,80\n",
    "    De 3.751,06 até 4.664,68 |    22,5% | 636,13\n",
    "    Acima de 4.664,68        |    27,5% | 869,36"
   ]
  },
  {
   "cell_type": "markdown",
   "metadata": {
    "slideshow": {
     "slide_type": "subslide"
    }
   },
   "source": [
    "Neste caso, supondo o problema resolvido, a última ação deve ter sido..."
   ]
  },
  {
   "cell_type": "code",
   "execution_count": null,
   "metadata": {
    "slideshow": {
     "slide_type": "-"
    }
   },
   "outputs": [],
   "source": [
    "print(imposto)"
   ]
  },
  {
   "cell_type": "markdown",
   "metadata": {
    "slideshow": {
     "slide_type": "skip"
    }
   },
   "source": [
    "   ```python\n",
    "   print(imposto)\n",
    "   ```"
   ]
  },
  {
   "cell_type": "markdown",
   "metadata": {
    "slideshow": {
     "slide_type": "subslide"
    }
   },
   "source": [
    "Agora coloque-se nessa posição e repita o raciocínio...\n",
    "- Qual terá sido a última ação executada antes dessa?"
   ]
  },
  {
   "cell_type": "markdown",
   "metadata": {
    "slideshow": {
     "slide_type": "fragment"
    }
   },
   "source": [
    "Para poder mostrar o `imposto`, é preciso calculá-lo e esta provavelmente foi a ação anterior.\n",
    "\n",
    "O problema sugere que `imposto` é calculado como"
   ]
  },
  {
   "cell_type": "code",
   "execution_count": null,
   "metadata": {
    "slideshow": {
     "slide_type": "-"
    }
   },
   "outputs": [],
   "source": [
    "imposto = renda * aliquota - deducao\n",
    "print(imposto)"
   ]
  },
  {
   "cell_type": "markdown",
   "metadata": {
    "slideshow": {
     "slide_type": "skip"
    }
   },
   "source": [
    "```python\n",
    "imposto = renda * aliquota - deducao\n",
    "print(imposto)\n",
    "```"
   ]
  },
  {
   "cell_type": "markdown",
   "metadata": {
    "slideshow": {
     "slide_type": "subslide"
    }
   },
   "source": [
    "E agora? Para calcular `imposto` precisamos de `renda`, `aliquota` e `deducao`.\n",
    "\n",
    "`renda` é um dado que pode ser pedido para o usuário."
   ]
  },
  {
   "cell_type": "markdown",
   "metadata": {
    "slideshow": {
     "slide_type": "fragment"
    }
   },
   "source": [
    "Vamos acrescentar essa ação ao nosso algoritmo, desta vez no início."
   ]
  },
  {
   "cell_type": "code",
   "execution_count": null,
   "metadata": {
    "slideshow": {
     "slide_type": "-"
    }
   },
   "outputs": [],
   "source": [
    "renda = float(input(...))\n",
    "...\n",
    "imposto = renda * aliquota – deducao;\n",
    "print(imposto)"
   ]
  },
  {
   "cell_type": "markdown",
   "metadata": {
    "slideshow": {
     "slide_type": "skip"
    }
   },
   "source": [
    "Vamos acrescentar essa ação ao nosso algoritmo, desta vez no início.\n",
    "```python\n",
    "renda = float(input(\"Qual a renda? \"))\n",
    "...\n",
    "imposto = renda * aliquota – deducao;\n",
    "print(imposto)\n",
    "```"
   ]
  },
  {
   "cell_type": "markdown",
   "metadata": {
    "slideshow": {
     "slide_type": "subslide"
    }
   },
   "source": [
    "Conhecida `renda`, só falta determinar a `aliquota` e a `deducao` correspondentes.\n",
    "\n",
    "Você consegue criar um comando que resolva completamente esse problema?"
   ]
  },
  {
   "cell_type": "markdown",
   "metadata": {
    "slideshow": {
     "slide_type": "fragment"
    }
   },
   "source": [
    "Não… e agora?"
   ]
  },
  {
   "cell_type": "markdown",
   "metadata": {
    "slideshow": {
     "slide_type": "subslide"
    }
   },
   "source": [
    "Você consegue criar um comando que resolva pelo menos um caso especial do problema?"
   ]
  },
  {
   "cell_type": "markdown",
   "metadata": {
    "slideshow": {
     "slide_type": "fragment"
    }
   },
   "source": [
    "Sim. Quando `renda <= 1903.98`, `aliquota` e `deducao` são iguais a zero.\n",
    "\n",
    "Como isso se aplica a apenas alguns casos, essa ação precisa aparecer num comando condicional."
   ]
  },
  {
   "cell_type": "code",
   "execution_count": null,
   "metadata": {
    "slideshow": {
     "slide_type": "fragment"
    }
   },
   "outputs": [],
   "source": [
    "if renda <= 1903.98:\n",
    "    aliquota, deducao = 0, 0"
   ]
  },
  {
   "cell_type": "markdown",
   "metadata": {
    "slideshow": {
     "slide_type": "skip"
    }
   },
   "source": [
    "```python\n",
    "if renda <= 1903.98:\n",
    "    aliquota, deducao = 0, 0\n",
    "```"
   ]
  },
  {
   "cell_type": "markdown",
   "metadata": {
    "slideshow": {
     "slide_type": "fragment"
    }
   },
   "source": [
    "Agora é preciso tratar os casos não cobertos por esse comando.  \n",
    "Como fazer isso?"
   ]
  },
  {
   "cell_type": "markdown",
   "metadata": {
    "slideshow": {
     "slide_type": "subslide"
    }
   },
   "source": [
    "Examinando a tabela, vemos que quando `1903.99 <= renda <= 2826.65`, <br>\n",
    "a `aliquota` é de `7.5%` e a `deducao` é de `142.80`.\n",
    "\n",
    "É fácil incluir esse caso no nosso comando..."
   ]
  },
  {
   "cell_type": "code",
   "execution_count": null,
   "metadata": {
    "slideshow": {
     "slide_type": "fragment"
    }
   },
   "outputs": [],
   "source": [
    "if renda <= 1903.98:\n",
    "    aliquota, deducao = 0, 0\n",
    "elif 1903.99 <= renda <= 2826.65:\n",
    "    aliquota, deducao = 0.075, 142.80"
   ]
  },
  {
   "cell_type": "markdown",
   "metadata": {
    "slideshow": {
     "slide_type": "skip"
    }
   },
   "source": [
    "```python\n",
    "if renda <= 1903.98:\n",
    "    aliquota, deducao = 0, 0\n",
    "elif 1903.99 <= renda <= 2826.65:\n",
    "    aliquota, deducao = 0.075, 142.80\n",
    "```"
   ]
  },
  {
   "cell_type": "markdown",
   "metadata": {
    "slideshow": {
     "slide_type": "fragment"
    }
   },
   "source": [
    "Será possível simplificar um pouco esse comando?"
   ]
  },
  {
   "cell_type": "markdown",
   "metadata": {
    "slideshow": {
     "slide_type": "subslide"
    }
   },
   "source": [
    "Sim.\n",
    "\n",
    "A condição do `elif` é `1903.99 <= renda <= 2826.65` que se desdobra em  \n",
    "`1903.99 <= renda `**`and`**` renda <= 2826.65`.\n",
    "\n",
    "Mas, como todos os casos em que `renda <= 1903.98` foram apanhados pela condição anterior, o termo `1903.99 <= renda` é sempre `True`.\n",
    "\n",
    "Como sabemos que o resultado de `True `**`and`**` `*`expressão`* é o mesmo que o de *`expressão`*, o primeiro termo da condição do `elif` pode ser eliminado."
   ]
  },
  {
   "cell_type": "markdown",
   "metadata": {
    "slideshow": {
     "slide_type": "subslide"
    }
   },
   "source": [
    "Assim, nosso comando pode ser simplificado para...\n",
    "```python\n",
    "if renda <= 1903.98:\n",
    "    aliquota, deducao = 0, 0\n",
    "elif renda <= 2826.65:\n",
    "    aliquota, deducao = 0.075, 142.80\n",
    "```"
   ]
  },
  {
   "cell_type": "markdown",
   "metadata": {
    "slideshow": {
     "slide_type": "subslide"
    }
   },
   "source": [
    "Repetindo sucessivamente esse raciocínio, podemos concluir o desenvolvimento..."
   ]
  },
  {
   "cell_type": "code",
   "execution_count": null,
   "metadata": {},
   "outputs": [],
   "source": [
    "if renda <= 1903.98:\n",
    "    aliquota, deducao = 0, 0\n",
    "elif renda <= 2826.65:\n",
    "    aliquota, deducao = 0.075, 142.80 \n"
   ]
  },
  {
   "cell_type": "markdown",
   "metadata": {
    "slideshow": {
     "slide_type": "skip"
    }
   },
   "source": [
    "```python\n",
    "if renda <= 1903.98:\n",
    "    aliquota, deducao = 0, 0\n",
    "elif renda <= 2826.65:\n",
    "    aliquota, deducao = 0.075, 142.80\n",
    "elif renda <= 3751.05:\n",
    "    aliquota, deducao = 0.150, 354.80\n",
    "elif renda <= 4664.68:\n",
    "    aliquota, deducao = 0.225, 636.13\n",
    "else:\n",
    "    aliquota, deducao = 0.275, 869.36\n",
    "```"
   ]
  },
  {
   "cell_type": "markdown",
   "metadata": {
    "slideshow": {
     "slide_type": "subslide"
    }
   },
   "source": [
    "#### Solução: *Cálculo do Imposto de Renda Retido na Fonte*\n",
    "Reunindo todos os fragmentos da solução temos..."
   ]
  },
  {
   "cell_type": "code",
   "execution_count": 14,
   "metadata": {
    "slideshow": {
     "slide_type": "fragment"
    }
   },
   "outputs": [
    {
     "name": "stdout",
     "output_type": "stream",
     "text": [
      "Qual a renda? 2826.65\n",
      "Imposto a ser retido = 69.19874999999999\n"
     ]
    }
   ],
   "source": [
    "renda = float(input(\"Qual a renda? \"))\n",
    "if renda <= 1903.98:\n",
    "    aliquota, deducao = 0, 0\n",
    "elif renda <= 2826.65:\n",
    "    aliquota, deducao = 0.075, 142.80\n",
    "elif renda <= 3751.05:\n",
    "    aliquota, deducao = 0.150, 354.80\n",
    "elif renda <= 4664.68:\n",
    "    aliquota, deducao = 0.225, 636.13\n",
    "else:\n",
    "    aliquota, deducao = 0.275, 869.36\n",
    "imposto = renda * aliquota - deducao\n",
    "# imposto = int(imposto * 100 + 0.5) / 100\n",
    "print(\"Imposto a ser retido =\", imposto) # format(imposto,\".2f\"))"
   ]
  },
  {
   "cell_type": "markdown",
   "metadata": {
    "slideshow": {
     "slide_type": "slide"
    }
   },
   "source": [
    "## Aproveitar uma solução (parcial) disponível livremente"
   ]
  },
  {
   "cell_type": "markdown",
   "metadata": {
    "slideshow": {
     "slide_type": "fragment"
    }
   },
   "source": [
    "Quando o problema tiver uma solução parcial ou aproximada disponível livremente, nossa principal preocupação será aferir a qualidade do código e até que ponto ela realmente atende nossas necessidades. "
   ]
  },
  {
   "cell_type": "markdown",
   "metadata": {
    "slideshow": {
     "slide_type": "subslide"
    }
   },
   "source": [
    "### Exemplo: Cálculo da data da Páscoa\n",
    "Dado um ano, exibir a data (dia, mês, ano) do domingo de Páscoa."
   ]
  },
  {
   "cell_type": "markdown",
   "metadata": {
    "slideshow": {
     "slide_type": "subslide"
    }
   },
   "source": [
    "Buscando na rede, encontramos a seguinte solução para este problema, sujeita a algumas restrições:\n",
    "- O dia da Páscoa num ano entre 1900 e 2099 pode ser calculado por:\n",
    "  - `a = ano % 19`<br>\n",
    "  `b = ano % 4`<br>\n",
    "  `c = ano % 7`<br>\n",
    "  `d = (19 * a + 24) % 30`<br>\n",
    "  `e = (2 * b + 4 * c + 6 * d + 5) % 7`<br>\n",
    "  `pascoa = 22 + d + e`\n",
    "- Restrições\n",
    "  - Para os anos de 1954, 1981, 2049 e 2076, é preciso subtrair 7 do resultado.\n",
    "  - O dia é calculado a partir do início de março (1 = 01 de março) e pode cair em abril."
   ]
  },
  {
   "cell_type": "markdown",
   "metadata": {
    "slideshow": {
     "slide_type": "subslide"
    }
   },
   "source": [
    "Vamos supor que a restrição no período coberto pela solução seja aceitável.\n",
    "- Nesse caso precisaremos apenas criticar a entrada, recusando anos fora do período coberto pelas fórmulas.\n",
    "\n",
    "O maior problema é como garantir a corretude das fórmulas... E se o cálculo estiver errado?"
   ]
  },
  {
   "cell_type": "markdown",
   "metadata": {
    "slideshow": {
     "slide_type": "subslide"
    }
   },
   "source": [
    "Dando uma nova busca na rede encontramos tabelas com os dias da Páscoa para vários períodos, incluindo esse que nos interessa.\n",
    "\n",
    "Como as fórmulas cobrem apenas 200 anos, é possível testar o resultado exaustivamente contra os valores tabelados.\n",
    "\n",
    "Se o valor calculado e o valor tabelado sempre forem iguais, a confiança melhora, e teremos duas possíveis soluções para o nosso problema:\n",
    "- Se nossa principal preocupação for tempo e não espaço, provavelmente a tabela será a melhor opção.\n",
    "- Se nossa principal preocupação for espaço e não tempo, provavelmente as fórmulas serão a melhor opção.\n",
    "- Em todo caso, será bom incluir uma ***asserção protetora*** para prevenir surpresas, como discutido a seguir."
   ]
  },
  {
   "cell_type": "markdown",
   "metadata": {
    "slideshow": {
     "slide_type": "subslide"
    }
   },
   "source": [
    "#### O comando **`assert`**\n",
    "Comandos **`assert`** são uma maneira conveniente de inserir asserções depuradoras num programa em desenvolvimento.\n",
    "\n",
    "Na sua forma mais simples, o comando tem a forma **`assert`**` `*`expressão`*.\n",
    "\n",
    "Quando executado, **`assert`** avalia a *`expressão`*.\n",
    "- Se o resultado for `True`, nada acontece.\n",
    "- Caso contrário, é gerada uma exceção."
   ]
  },
  {
   "cell_type": "markdown",
   "metadata": {
    "slideshow": {
     "slide_type": "subslide"
    }
   },
   "source": [
    "Neste caso, damos uma busca na Wikipedia e descobrimos que a Páscoa nunca cai antes de 22 de março, nem depois de 25 de abril.\n",
    "\n",
    "Lembrando que as fórmulas calculam o dia da Páscoa contado a partir de 01 de março,<br>\n",
    "22 de março corresponderá a 22 e 25 de abril a 56 (25 + 31).\n",
    "\n",
    "Portanto, depois de calcular o valor final da variável `pascoa`, podemos nos proteger incluindo...\n",
    "```python\n",
    "assert 22 <= pascoa <= 56\n",
    "```"
   ]
  },
  {
   "cell_type": "markdown",
   "metadata": {
    "slideshow": {
     "slide_type": "subslide"
    }
   },
   "source": [
    "#### Solução calculada"
   ]
  },
  {
   "cell_type": "markdown",
   "metadata": {
    "slideshow": {
     "slide_type": "fragment"
    }
   },
   "source": [
    "```python\n",
    "ano = int(input(\"Qual o ano desejado? (1900-2099) \"))\n",
    "if 1900 <= ano < 2100:\n",
    "    # calcular o dia da Páscoa\n",
    "else:\n",
    "    print(\"Ano fora do intervalo aceitável.\")\n",
    "```"
   ]
  },
  {
   "cell_type": "markdown",
   "metadata": {
    "slideshow": {
     "slide_type": "subslide"
    }
   },
   "source": [
    "##### Calcular o dia da Páscoa"
   ]
  },
  {
   "cell_type": "code",
   "execution_count": 17,
   "metadata": {
    "slideshow": {
     "slide_type": "fragment"
    }
   },
   "outputs": [
    {
     "name": "stdout",
     "output_type": "stream",
     "text": [
      "Ano? 2018\n",
      "1 abril 2018\n"
     ]
    }
   ],
   "source": [
    "ano = int(input(\"Ano? \"))\n",
    "a = ano % 19\n",
    "b = ano % 4\n",
    "c = ano % 7\n",
    "d = (19 * a + 24) % 30\n",
    "e = (2 * b + 4 * c + 6 * d + 5) % 7\n",
    "pascoa = 22 + d + e\n",
    "# tratar os anos de 1954, 1981, 2049 e 2076\n",
    "if ano in {1954, 1981, 2049, 2076}:\n",
    "    pascoa -= 7\n",
    "# inserir uma asserção protetora\n",
    "assert 22 <= pascoa <= 56\n",
    "# tratar os casos em que a Páscoa cai em abril\n",
    "if pascoa > 31:\n",
    "    print(pascoa - 31, \"abril\", ano)\n",
    "else:\n",
    "    print(pascoa, \"março\", ano)"
   ]
  },
  {
   "cell_type": "markdown",
   "metadata": {
    "slideshow": {
     "slide_type": "skip"
    }
   },
   "source": [
    "```python\n",
    "a = ano % 19\n",
    "b = ano % 4\n",
    "c = ano % 7\n",
    "d = (19 * a + 24) % 30\n",
    "e = (2 * b + 4 * c + 6 * d + 5) % 7\n",
    "pascoa = 22 + d + e\n",
    "if ano == 1954 or ano == 1981 or ano == 2049 or ano == 2076:\n",
    "    pascoa -= 7\n",
    "if pascoa <= 31:\n",
    "    dia, mes = pascoa, 3\n",
    "else:\n",
    "    dia, mes = pascoa - 31, 4\n",
    "print(dia, mes, ano)\n",
    "```"
   ]
  },
  {
   "cell_type": "markdown",
   "metadata": {
    "slideshow": {
     "slide_type": "subslide"
    }
   },
   "source": [
    "Juntando os fragmentos..."
   ]
  },
  {
   "cell_type": "code",
   "execution_count": null,
   "metadata": {
    "slideshow": {
     "slide_type": "fragment"
    }
   },
   "outputs": [],
   "source": [
    "ano = int(input(\"Qual o ano desejado? (1900-2099) \"))\n",
    "if 1900 <= ano < 2100:\n",
    "    a = ano % 19\n",
    "    b = ano % 4\n",
    "    c = ano % 7\n",
    "    d = (19 * a + 24) % 30\n",
    "    e = (2 * b + 4 * c + 6 * d + 5) % 7\n",
    "    pascoa = 22 + d + e\n",
    "    if ano == 1954 or ano == 1981 or ano == 2049 or ano == 2076:\n",
    "        pascoa -= 7\n",
    "    assert 22 <= pascoa <= 56\n",
    "    if pascoa <= 31:\n",
    "        dia, mes = pascoa, 3\n",
    "    else:\n",
    "        dia, mes = pascoa - 31, 4\n",
    "    print(dia, mes, ano)\n",
    "else:\n",
    "    print(\"Ano fora do intervalo aceitável.\")"
   ]
  },
  {
   "cell_type": "markdown",
   "metadata": {
    "slideshow": {
     "slide_type": "skip"
    }
   },
   "source": [
    "#### Programa para testar os resultados das fórmulas (`pascoa.txt` contém as datas da Páscoa para os anos 1900-2099)"
   ]
  },
  {
   "cell_type": "code",
   "execution_count": null,
   "metadata": {
    "slideshow": {
     "slide_type": "skip"
    }
   },
   "outputs": [],
   "source": [
    "f = open(\"data/pascoa.txt\")\n",
    "for line in f:\n",
    "    ano = int(line[4:])\n",
    "    diaf = int(line[0:2])\n",
    "    mesf = int(line[2:4])\n",
    "    a = ano % 19\n",
    "    b = ano % 4\n",
    "    c = ano % 7\n",
    "    d = (19 * a + 24) % 30\n",
    "    e = (2 * b + 4 * c + 6 * d + 5) % 7\n",
    "    pascoa = 22 + d + e\n",
    "    if ano in {1954, 1981, 2049, 2076}:\n",
    "        pascoa -= 7\n",
    "    assert 22 <= pascoa <= 56\n",
    "    if pascoa <= 31:\n",
    "        dia, mes = pascoa, 3\n",
    "    else:\n",
    "        dia, mes = pascoa - 31, 4\n",
    "    print(format(diaf, \"02d\"), format(mesf, \"02d\"), format(ano, \"4d\"), end=' ')\n",
    "    if dia != diaf or mes != mesf:\n",
    "        print('!=', format(dia, \"02d\"), format(mes, \"02d\"), format(ano, \"4d\"))\n",
    "    else:\n",
    "        print(' ok')"
   ]
  }
 ],
 "metadata": {
  "celltoolbar": "Slideshow",
  "kernelspec": {
   "display_name": "Python 3",
   "language": "python",
   "name": "python3"
  },
  "language_info": {
   "codemirror_mode": {
    "name": "ipython",
    "version": 3
   },
   "file_extension": ".py",
   "mimetype": "text/x-python",
   "name": "python",
   "nbconvert_exporter": "python",
   "pygments_lexer": "ipython3",
   "version": "3.6.4"
  },
  "latex_envs": {
   "LaTeX_envs_menu_present": true,
   "autocomplete": true,
   "bibliofile": "biblio.bib",
   "cite_by": "apalike",
   "current_citInitial": 1,
   "eqLabelWithNumbers": true,
   "eqNumInitial": 1,
   "hotkeys": {
    "equation": "Ctrl-E",
    "itemize": "Ctrl-I"
   },
   "labels_anchors": false,
   "latex_user_defs": false,
   "report_style_numbering": false,
   "user_envs_cfg": false
  },
  "toc": {
   "nav_menu": {},
   "number_sections": true,
   "sideBar": true,
   "skip_h1_title": true,
   "title_cell": "Table of Contents",
   "title_sidebar": "Contents",
   "toc_cell": false,
   "toc_position": {
    "height": "calc(100% - 180px)",
    "left": "10px",
    "top": "150px",
    "width": "165px"
   },
   "toc_section_display": true,
   "toc_window_display": false
  },
  "varInspector": {
   "cols": {
    "lenName": 16,
    "lenType": 16,
    "lenVar": 40
   },
   "kernels_config": {
    "python": {
     "delete_cmd_postfix": "",
     "delete_cmd_prefix": "del ",
     "library": "var_list.py",
     "varRefreshCmd": "print(var_dic_list())"
    },
    "r": {
     "delete_cmd_postfix": ") ",
     "delete_cmd_prefix": "rm(",
     "library": "var_list.r",
     "varRefreshCmd": "cat(var_dic_list()) "
    }
   },
   "types_to_exclude": [
    "module",
    "function",
    "builtin_function_or_method",
    "instance",
    "_Feature"
   ],
   "window_display": false
  }
 },
 "nbformat": 4,
 "nbformat_minor": 2
}
