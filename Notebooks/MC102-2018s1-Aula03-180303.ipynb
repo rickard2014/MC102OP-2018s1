{
 "cells": [
  {
   "cell_type": "markdown",
   "metadata": {
    "slideshow": {
     "slide_type": "slide"
    }
   },
   "source": [
    "# Vamos começar a programar..."
   ]
  },
  {
   "cell_type": "markdown",
   "metadata": {
    "slideshow": {
     "slide_type": "fragment"
    }
   },
   "source": [
    "Nossa rotina para resolver um problema de programação simples será:\n",
    "- Entender bem o problema\n",
    "- Encontrar uma heurística que pareça nos aproximar da solução desejada\n",
    "- Repetir o passo anterior até que o problema esteja resolvido\n",
    "- Se necessário, melhorar a solução progressivamente até que o resultado seja satisfatório"
   ]
  },
  {
   "cell_type": "markdown",
   "metadata": {
    "slideshow": {
     "slide_type": "slide"
    }
   },
   "source": [
    "## Exemplo 1\n",
    "\n",
    "Dada uma temperatura em graus Fahrenheit, convertê-la para graus Celsius."
   ]
  },
  {
   "cell_type": "markdown",
   "metadata": {
    "slideshow": {
     "slide_type": "fragment"
    }
   },
   "source": [
    "**Como resolver este problema?**\n",
    "- Será possível encontrar uma única heurística que resolva o problema?\n",
    "- Ou será melhor pensar numa sequência de heurísticas?"
   ]
  },
  {
   "cell_type": "markdown",
   "metadata": {
    "slideshow": {
     "slide_type": "slide"
    }
   },
   "source": [
    "Vamos experimentar a segunda opção."
   ]
  },
  {
   "cell_type": "code",
   "execution_count": null,
   "metadata": {
    "slideshow": {
     "slide_type": "fragment"
    }
   },
   "outputs": [],
   "source": [
    "# Ler a temperatura em graus Fahrenheit\n",
    "tempF = float(input(\"Temperatura em graus F = \"))"
   ]
  },
  {
   "cell_type": "code",
   "execution_count": null,
   "metadata": {
    "slideshow": {
     "slide_type": "notes"
    }
   },
   "outputs": [],
   "source": [
    "# Ler a temperatura em graus Fahrenheit\n",
    "tempF = float(input(\"Temperatura em graus Fahrenheit = \"))"
   ]
  },
  {
   "cell_type": "code",
   "execution_count": null,
   "metadata": {
    "slideshow": {
     "slide_type": "fragment"
    }
   },
   "outputs": [],
   "source": [
    "# Converter essa temperatura para graus Celsius\n",
    "tempC = (tempF - 32) / 1.8"
   ]
  },
  {
   "cell_type": "code",
   "execution_count": null,
   "metadata": {
    "slideshow": {
     "slide_type": "notes"
    }
   },
   "outputs": [],
   "source": [
    "# Converter essa temperatura para graus Celsius\n",
    "tempC = 5 / 9 * (tempF - 32)"
   ]
  },
  {
   "cell_type": "code",
   "execution_count": null,
   "metadata": {
    "slideshow": {
     "slide_type": "fragment"
    }
   },
   "outputs": [],
   "source": [
    "# Exibir o resultado\n",
    "print(\"Temperatura em graus C =\", tempC, \"graus C\")"
   ]
  },
  {
   "cell_type": "code",
   "execution_count": null,
   "metadata": {
    "slideshow": {
     "slide_type": "notes"
    }
   },
   "outputs": [],
   "source": [
    "# Exibir o resultado\n",
    "print(\"Temperatura em graus Celsius =\", tempC)"
   ]
  },
  {
   "cell_type": "markdown",
   "metadata": {
    "slideshow": {
     "slide_type": "slide"
    }
   },
   "source": [
    "É possível resolver esse problema com um único comando,  \n",
    "mas o resultado é bem menos legível..."
   ]
  },
  {
   "cell_type": "markdown",
   "metadata": {
    "slideshow": {
     "slide_type": "fragment"
    }
   },
   "source": [
    "Em `print(\"Temperatura em graus Celsius =\", tempC)`,  \n",
    "substituímos `tempC` por `5 / 9 * (tempF - 32)`,  \n",
    "e obtemos `print(\"Temperatura em graus Celsius =\", 5 / 9 * (tempF - 32))`"
   ]
  },
  {
   "cell_type": "markdown",
   "metadata": {
    "slideshow": {
     "slide_type": "fragment"
    }
   },
   "source": [
    "Depois, substituímos `tempF` por `float(input(\"Temperatura em graus Fahrenheit = \"))`, obtendo..."
   ]
  },
  {
   "cell_type": "code",
   "execution_count": null,
   "metadata": {
    "slideshow": {
     "slide_type": "fragment"
    }
   },
   "outputs": [],
   "source": [
    "print(\"Temperatura em graus Celsius =\", \n",
    "      5 / 9 * (int(input('Temperatura em graus Fahrenheit? ')) - 32))"
   ]
  },
  {
   "cell_type": "markdown",
   "metadata": {
    "slideshow": {
     "slide_type": "slide"
    }
   },
   "source": [
    "## Exemplo 2\n",
    "Um despertador de 24 horas está marcando 13h e está programado para despertar daqui a 50 horas. Quando o alarme disparar, ele estará marcando 15h.\n",
    "\n",
    "Escreva um programa Python para resolver a versão geral desse problema.\n",
    "\n",
    "Pergunte ao usuário que horas o despertador está mostrando e, em seguida, o número de horas até o alarme disparar. Seu programa deve calcular que horas o despertador estará marcando quando o alarme tocar."
   ]
  },
  {
   "cell_type": "markdown",
   "metadata": {
    "slideshow": {
     "slide_type": "subslide"
    }
   },
   "source": [
    "**Como resolver este problema?**"
   ]
  },
  {
   "cell_type": "code",
   "execution_count": null,
   "metadata": {
    "slideshow": {
     "slide_type": "fragment"
    }
   },
   "outputs": [],
   "source": [
    "# Ler a hora atual e o intervalo até o alarme tocar\n",
    "hora_atual = int(input(\"Hora atual = \"))\n",
    "intervalo = int(input(\"Intervalo = \"))"
   ]
  },
  {
   "cell_type": "code",
   "execution_count": null,
   "metadata": {
    "slideshow": {
     "slide_type": "fragment"
    }
   },
   "outputs": [],
   "source": [
    "# Somar a hora atual com o intervalo\n",
    "hora_final = (hora_atual + intervalo) % 24"
   ]
  },
  {
   "cell_type": "code",
   "execution_count": null,
   "metadata": {
    "scrolled": false,
    "slideshow": {
     "slide_type": "fragment"
    }
   },
   "outputs": [],
   "source": [
    "# Exibir o resultado\n",
    "print(\"Hora de despertar =\", hora_final)"
   ]
  },
  {
   "cell_type": "markdown",
   "metadata": {
    "slideshow": {
     "slide_type": "fragment"
    }
   },
   "source": [
    "#### O que está acontecendo?"
   ]
  },
  {
   "cell_type": "code",
   "execution_count": null,
   "metadata": {
    "slideshow": {
     "slide_type": "skip"
    }
   },
   "outputs": [],
   "source": [
    "# Ler a hora atual e o intervalo até o alarme tocar\n",
    "hora_atual = input(\"Que horas são? \")\n",
    "intervalo = input (\"Quantas horas até despertar? \")\n",
    "\n",
    "# Somar a hora atual com o intervalo\n",
    "hora_alarme = (hora_atual + intervalo) % 24\n",
    "\n",
    "# Exibir o resultado\n",
    "print(hora_alarme)"
   ]
  },
  {
   "cell_type": "markdown",
   "metadata": {
    "slideshow": {
     "slide_type": "slide"
    }
   },
   "source": [
    "## Dicas para depuração de um programa\n",
    "- Todos são suspeitos até prova em contrário\n",
    "- Procure pistas\n",
    "  - Mensagens de erro\n",
    "  - Comandos de impressão auxiliares\n",
    "  - Mapas do depurador"
   ]
  },
  {
   "cell_type": "markdown",
   "metadata": {
    "slideshow": {
     "slide_type": "slide"
    }
   },
   "source": [
    "## Tire proveito das mensagens de erro\n",
    "Os autores do livro recomendado registraram os erros cometidos na solução de problemas propostos. \n",
    "\n",
    "Quase 90% desses erros eram representados por:\n",
    "- Erros de sintaxe (55%)\n",
    "- Erros de tipo (14%)\n",
    "- Erros de nome (11%)\n",
    "- Erros de valor (10%)"
   ]
  },
  {
   "cell_type": "markdown",
   "metadata": {
    "slideshow": {
     "slide_type": "slide"
    }
   },
   "source": [
    "### Erros de sintaxe\n",
    "Ocorrem quando alguma regra de formação da linguagem é violada. São os mais fáceis de encontrar e corrigir por causa das mensagens do interpretador. "
   ]
  },
  {
   "cell_type": "markdown",
   "metadata": {
    "slideshow": {
     "slide_type": "subslide"
    }
   },
   "source": [
    "Veja se você consegue identificar um **_erro de sintaxe_** no programa abaixo:"
   ]
  },
  {
   "cell_type": "code",
   "execution_count": null,
   "metadata": {
    "slideshow": {
     "slide_type": "fragment"
    }
   },
   "outputs": [],
   "source": [
    "hora_str = input(\"Que horas são (0-23)? \")\n",
    "espera_str = input(\"Quantas horas você vai esperar?\")\n",
    "\n",
    "hora_int = int(hora_str)\n",
    "espera_int = int(espera_int)\n",
    "\n",
    "alarme_int = hora_int + espera_int\n",
    "print(alarme_int)"
   ]
  },
  {
   "cell_type": "markdown",
   "metadata": {
    "slideshow": {
     "slide_type": "subslide"
    }
   },
   "source": [
    "##### Dicas de pista\n",
    "- Experimente \"comentar\" a linha do erro para ver se ele desaparece\n",
    "  - Lembre-se de que, neste caso, o interpretador esperava uma coisa e encontrou outra. Portanto, o erro deve estar do ponto indicado para trás...\n",
    "- Se comentar a linha \"piorar\" o erro, tente trocar uma expressão que exista na linha por uma constante razoável e veja se o erro desaparece..."
   ]
  },
  {
   "cell_type": "markdown",
   "metadata": {
    "slideshow": {
     "slide_type": "slide"
    }
   },
   "source": [
    "### Erros de tipo\n",
    "Ocorrem quando você tenta combinar objetos incompatíveis.  \n",
    "Geralmente aparecem em comandos envolvendo expressões matemáticas ou lógicas.  \n",
    "Também não costumam ser difíceis de encontrar e corrigir por causa das mensagens do interpretador. "
   ]
  },
  {
   "cell_type": "markdown",
   "metadata": {
    "slideshow": {
     "slide_type": "slide"
    }
   },
   "source": [
    "Veja se você consegue identificar um **_erro de tipo_** no programa abaixo:"
   ]
  },
  {
   "cell_type": "code",
   "execution_count": 3,
   "metadata": {
    "slideshow": {
     "slide_type": "fragment"
    }
   },
   "outputs": [
    {
     "name": "stdout",
     "output_type": "stream",
     "text": [
      "εισάγετε την τρέχουσα ώρα: 123\n",
      "εισάγετε τον χρόνο αναμονής: 456\n",
      "ώρα μετά την αναμονή 19\n"
     ]
    }
   ],
   "source": [
    "a = int(input('εισάγετε την τρέχουσα ώρα: '))\n",
    "x = int(input('εισάγετε τον χρόνο αναμονής: '))\n",
    "# x = int(x)\n",
    "# a = int(a)\n",
    "h = x // 24\n",
    "s = x % 24\n",
    "a = h + s\n",
    "print ('ώρα μετά την αναμονή', a)"
   ]
  },
  {
   "cell_type": "markdown",
   "metadata": {
    "slideshow": {
     "slide_type": "subslide"
    }
   },
   "source": [
    "##### Dicas de pista\n",
    "- Insira \"prints\" auxiliares, mostrando o valor e o tipo das variáveis envolvidas na expressão onde você desconfia que o erro deva estar.\n",
    "- Use nomes adequados para suas variáveis, que o ajudem a lembrar seu tipo e faixa de valores aceitáveis."
   ]
  },
  {
   "cell_type": "markdown",
   "metadata": {
    "slideshow": {
     "slide_type": "slide"
    }
   },
   "source": [
    "#### Esse programa está correto?\n",
    "\n",
    "Para responder essa pergunta, primeiro é preciso saber o que se supõe que ele faça..."
   ]
  },
  {
   "cell_type": "markdown",
   "metadata": {
    "slideshow": {
     "slide_type": "fragment"
    }
   },
   "source": [
    "<img src=\"img/translate-greek.png\" />"
   ]
  },
  {
   "cell_type": "markdown",
   "metadata": {
    "slideshow": {
     "slide_type": "slide"
    }
   },
   "source": [
    "Agora é possível ter uma ideia do que deveria acontecer...  \n",
    "mas os nomes das variáveis não ajudam..."
   ]
  },
  {
   "cell_type": "code",
   "execution_count": 5,
   "metadata": {
    "slideshow": {
     "slide_type": "-"
    }
   },
   "outputs": [
    {
     "name": "stdout",
     "output_type": "stream",
     "text": [
      "digite a hora atual: 23\n",
      "digite o tempo de espera: 5\n",
      "hora após a espera: 4\n"
     ]
    }
   ],
   "source": [
    "hora_atual = input('digite a hora atual: ')\n",
    "interv = input('digite o tempo de espera: ')\n",
    "interv = int(interv)\n",
    "hora_atual = int(hora_atual)\n",
    "# dias_interv = interv // 24\n",
    "# horas_interv = interv % 24\n",
    "hora_final = (hora_atual + interv) % 24\n",
    "print ('hora após a espera:', hora_final)"
   ]
  },
  {
   "cell_type": "code",
   "execution_count": null,
   "metadata": {
    "slideshow": {
     "slide_type": "skip"
    }
   },
   "outputs": [],
   "source": [
    "a = input('digite a hora atual: ')\n",
    "x = input('digite o tempo de espera: ')\n",
    "x = int(x)\n",
    "a = int(a)\n",
    "h = x // 24\n",
    "s = x % 24\n",
    "a = h + s\n",
    "print ('hora após a espera:', a)"
   ]
  },
  {
   "cell_type": "code",
   "execution_count": null,
   "metadata": {
    "slideshow": {
     "slide_type": "skip"
    }
   },
   "outputs": [],
   "source": [
    "hora_atual = input('digite a hora atual: ')\n",
    "espera = input('digite o tempo de espera: ')\n",
    "espera = int(espera)\n",
    "hora_atual = int(hora_atual)\n",
    "dias_de_espera = espera // 24\n",
    "horas_restantes = espera % 24\n",
    "hora_atual = hora_atual + horas_restantes\n",
    "print ('hora após a espera:', hora_atual)"
   ]
  },
  {
   "cell_type": "markdown",
   "metadata": {
    "slideshow": {
     "slide_type": "slide"
    }
   },
   "source": [
    "### Erros de nome\n",
    "**_Erros de nome_** quase sempre indicam que você usou uma variável antes de atribuir um valor a ela.  \n",
    "\n",
    "Muitas vezes eles decorrem de simples erros de digitação."
   ]
  },
  {
   "cell_type": "markdown",
   "metadata": {
    "slideshow": {
     "slide_type": "slide"
    }
   },
   "source": [
    "Veja se você consegue identificar um **_erro de nome_** no programa abaixo:"
   ]
  },
  {
   "cell_type": "code",
   "execution_count": 9,
   "metadata": {
    "slideshow": {
     "slide_type": "fragment"
    }
   },
   "outputs": [
    {
     "name": "stdout",
     "output_type": "stream",
     "text": [
      "Que horas são (0-23)? 23\n",
      "Quantas horas você vai esperar? 50\n",
      "<class 'str'> <class 'str'>\n"
     ]
    },
    {
     "ename": "TypeError",
     "evalue": "must be str, not int",
     "output_type": "error",
     "traceback": [
      "\u001b[0;31m---------------------------------------------------------------------------\u001b[0m",
      "\u001b[0;31mTypeError\u001b[0m                                 Traceback (most recent call last)",
      "\u001b[0;32m<ipython-input-9-d04f03f0f4ae>\u001b[0m in \u001b[0;36m<module>\u001b[0;34m()\u001b[0m\n\u001b[1;32m      6\u001b[0m \u001b[0mespera_int\u001b[0m \u001b[0;34m=\u001b[0m \u001b[0mint\u001b[0m\u001b[0;34m(\u001b[0m\u001b[0mespera_str\u001b[0m\u001b[0;34m)\u001b[0m\u001b[0;34m\u001b[0m\u001b[0m\n\u001b[1;32m      7\u001b[0m \u001b[0;34m\u001b[0m\u001b[0m\n\u001b[0;32m----> 8\u001b[0;31m \u001b[0malarme_int\u001b[0m \u001b[0;34m=\u001b[0m \u001b[0mque_hora_int\u001b[0m \u001b[0;34m+\u001b[0m \u001b[0mespera_int\u001b[0m\u001b[0;34m\u001b[0m\u001b[0m\n\u001b[0m\u001b[1;32m      9\u001b[0m \u001b[0mprint\u001b[0m\u001b[0;34m(\u001b[0m\u001b[0malarme_int\u001b[0m\u001b[0;34m)\u001b[0m\u001b[0;34m\u001b[0m\u001b[0m\n",
      "\u001b[0;31mTypeError\u001b[0m: must be str, not int"
     ]
    }
   ],
   "source": [
    "que_hora_str = input(\"Que horas são (0-23)? \")\n",
    "espera_str = input(\"Quantas horas você vai esperar? \")\n",
    "\n",
    "que_hora_int = que_hora_str\n",
    "print(type(que_hora_int), type(que_hora_str))\n",
    "espera_int = int(espera_str)\n",
    "\n",
    "alarme_int = que_hora_int + espera_int\n",
    "print(alarme_int)"
   ]
  },
  {
   "cell_type": "markdown",
   "metadata": {
    "slideshow": {
     "slide_type": "slide"
    }
   },
   "source": [
    "##### Dicas de pista\n",
    "- Use o editor para buscar o nome no corpo do programa. \n",
    "  - Se ele aparecer apenas uma vez, desconfie...\n",
    "  - Se você **_\"tiver certeza\"_** de que ele aparece numa certa linha e o editor não realçá-lo, olhe com mais atenção porque você pode ter cometido um erro de digitação."
   ]
  },
  {
   "cell_type": "markdown",
   "metadata": {
    "slideshow": {
     "slide_type": "slide"
    }
   },
   "source": [
    "Vamos corrigir este programa..."
   ]
  },
  {
   "cell_type": "code",
   "execution_count": 10,
   "metadata": {
    "scrolled": true,
    "slideshow": {
     "slide_type": "fragment"
    }
   },
   "outputs": [
    {
     "name": "stdout",
     "output_type": "stream",
     "text": [
      "Que horas são? (0-23) 23\n"
     ]
    },
    {
     "ename": "NameError",
     "evalue": "name 'imt' is not defined",
     "output_type": "error",
     "traceback": [
      "\u001b[0;31m---------------------------------------------------------------------------\u001b[0m",
      "\u001b[0;31mNameError\u001b[0m                                 Traceback (most recent call last)",
      "\u001b[0;32m<ipython-input-10-08a0b7c8e0c6>\u001b[0m in \u001b[0;36m<module>\u001b[0;34m()\u001b[0m\n\u001b[1;32m      1\u001b[0m \u001b[0mn\u001b[0m \u001b[0;34m=\u001b[0m \u001b[0minput\u001b[0m\u001b[0;34m(\u001b[0m\u001b[0;34m\"Que horas são? (0-23) \"\u001b[0m\u001b[0;34m)\u001b[0m\u001b[0;34m\u001b[0m\u001b[0m\n\u001b[0;32m----> 2\u001b[0;31m \u001b[0mn\u001b[0m \u001b[0;34m=\u001b[0m \u001b[0mimt\u001b[0m\u001b[0;34m(\u001b[0m\u001b[0mn\u001b[0m\u001b[0;34m)\u001b[0m\u001b[0;34m\u001b[0m\u001b[0m\n\u001b[0m\u001b[1;32m      3\u001b[0m \u001b[0mm\u001b[0m \u001b[0;34m=\u001b[0m \u001b[0minput\u001b[0m\u001b[0;34m(\u001b[0m\u001b[0;34m\"Daqui a quantas horas vai tocar o alarme? (>= 0) \"\u001b[0m\u001b[0;34m)\u001b[0m\u001b[0;34m\u001b[0m\u001b[0m\n\u001b[1;32m      4\u001b[0m \u001b[0mm\u001b[0m \u001b[0;34m=\u001b[0m \u001b[0mint\u001b[0m\u001b[0;34m(\u001b[0m\u001b[0mm\u001b[0m\u001b[0;34m)\u001b[0m\u001b[0;34m\u001b[0m\u001b[0m\n\u001b[1;32m      5\u001b[0m \u001b[0mq\u001b[0m \u001b[0;34m=\u001b[0m \u001b[0mm\u001b[0m \u001b[0;34m%\u001b[0m \u001b[0;36m12\u001b[0m\u001b[0;34m\u001b[0m\u001b[0m\n",
      "\u001b[0;31mNameError\u001b[0m: name 'imt' is not defined"
     ]
    }
   ],
   "source": [
    "n = input(\"Que horas são? (0-23) \")\n",
    "n = imt(n)\n",
    "m = input(\"Daqui a quantas horas vai tocar o alarme? (>= 0) \")\n",
    "m = int(m)\n",
    "q = m % 12\n",
    "print(\"O despertador vai tocar às\", q, \"horas.\")"
   ]
  },
  {
   "cell_type": "code",
   "execution_count": null,
   "metadata": {
    "scrolled": true,
    "slideshow": {
     "slide_type": "skip"
    }
   },
   "outputs": [],
   "source": [
    "n = input(\"Que horas são? (0-23) \")\n",
    "n = imt(n)\n",
    "m = input(\"Daqui a quantas horas vai tocar o alarme? (>= 0) \")\n",
    "m = int(m)\n",
    "q = m % 12\n",
    "print(\"O despertador vai tocar às\", q, \"horas.\")"
   ]
  },
  {
   "cell_type": "markdown",
   "metadata": {
    "slideshow": {
     "slide_type": "slide"
    }
   },
   "source": [
    "E mais este..."
   ]
  },
  {
   "cell_type": "code",
   "execution_count": 12,
   "metadata": {
    "scrolled": true,
    "slideshow": {
     "slide_type": "fragment"
    }
   },
   "outputs": [
    {
     "name": "stdout",
     "output_type": "stream",
     "text": [
      "Que horas são? (0-23) 23\n",
      "Daqui a quantas horas vai tocar o alarme? (>= 0) 5\n"
     ]
    },
    {
     "ename": "TypeError",
     "evalue": "'str' object cannot be interpreted as an integer",
     "output_type": "error",
     "traceback": [
      "\u001b[0;31m---------------------------------------------------------------------------\u001b[0m",
      "\u001b[0;31mTypeError\u001b[0m                                 Traceback (most recent call last)",
      "\u001b[0;32m<ipython-input-12-bf3fbab4458c>\u001b[0m in \u001b[0;36m<module>\u001b[0;34m()\u001b[0m\n\u001b[1;32m      1\u001b[0m \u001b[0mhora_atual\u001b[0m \u001b[0;34m=\u001b[0m \u001b[0minput\u001b[0m\u001b[0;34m(\u001b[0m\u001b[0;34m\"Que horas são? (0-23) \"\u001b[0m\u001b[0;34m)\u001b[0m\u001b[0;34m\u001b[0m\u001b[0m\n\u001b[1;32m      2\u001b[0m \u001b[0mdelta_alarme\u001b[0m \u001b[0;34m=\u001b[0m \u001b[0minput\u001b[0m\u001b[0;34m(\u001b[0m\u001b[0;34m\"Daqui a quantas horas vai tocar o alarme? (>= 0) \"\u001b[0m\u001b[0;34m)\u001b[0m\u001b[0;34m\u001b[0m\u001b[0m\n\u001b[0;32m----> 3\u001b[0;31m \u001b[0mint\u001b[0m\u001b[0;34m(\u001b[0m\u001b[0mhora_atual\u001b[0m\u001b[0;34m,\u001b[0m \u001b[0mdelta_alarme\u001b[0m\u001b[0;34m)\u001b[0m\u001b[0;34m\u001b[0m\u001b[0m\n\u001b[0m\u001b[1;32m      4\u001b[0m \u001b[0mhora_alarme\u001b[0m \u001b[0;34m=\u001b[0m \u001b[0mhora_atual\u001b[0m \u001b[0;34m+\u001b[0m \u001b[0mdelta_alarme\u001b[0m\u001b[0;34m\u001b[0m\u001b[0m\n\u001b[1;32m      5\u001b[0m \u001b[0mprint\u001b[0m\u001b[0;34m(\u001b[0m\u001b[0mhora_alarme\u001b[0m\u001b[0;34m)\u001b[0m\u001b[0;34m\u001b[0m\u001b[0m\n",
      "\u001b[0;31mTypeError\u001b[0m: 'str' object cannot be interpreted as an integer"
     ]
    }
   ],
   "source": [
    "hora_atual = input(\"Que horas são? (0-23) \")\n",
    "delta_alarme = input(\"Daqui a quantas horas vai tocar o alarme? (>= 0) \")\n",
    "int(hora_atual, delta_alarme)\n",
    "hora_alarme = hora_atual + delta_alarme\n",
    "print(hora_alarme)"
   ]
  },
  {
   "cell_type": "code",
   "execution_count": null,
   "metadata": {
    "scrolled": true,
    "slideshow": {
     "slide_type": "skip"
    }
   },
   "outputs": [],
   "source": [
    "hora_atual = input(\"Que horas são? (0-23) \")\n",
    "delta_alarme = input(\"Daqui a quantas horas vai tocar o alarme? (>= 0) \")\n",
    "int(hora_atual, delta_alarme, hora_alarme)\n",
    "hora_alarme = hora_atual + delta_alarme\n",
    "print(hora_alarme)"
   ]
  },
  {
   "cell_type": "markdown",
   "metadata": {
    "slideshow": {
     "slide_type": "slide"
    }
   },
   "source": [
    "### Erros de valor\n",
    "**_Erros de valor_** surgem quando você passa um parâmetro para uma função desrespeitando alguma restrição de aceitabilidade. Por exemplo, "
   ]
  },
  {
   "cell_type": "code",
   "execution_count": 13,
   "metadata": {},
   "outputs": [
    {
     "ename": "ValueError",
     "evalue": "invalid literal for int() with base 10: 'abc'",
     "output_type": "error",
     "traceback": [
      "\u001b[0;31m---------------------------------------------------------------------------\u001b[0m",
      "\u001b[0;31mValueError\u001b[0m                                Traceback (most recent call last)",
      "\u001b[0;32m<ipython-input-13-8a980f17be01>\u001b[0m in \u001b[0;36m<module>\u001b[0;34m()\u001b[0m\n\u001b[0;32m----> 1\u001b[0;31m \u001b[0mx\u001b[0m \u001b[0;34m=\u001b[0m \u001b[0mint\u001b[0m\u001b[0;34m(\u001b[0m\u001b[0;34m'abc'\u001b[0m\u001b[0;34m)\u001b[0m\u001b[0;34m\u001b[0m\u001b[0m\n\u001b[0m",
      "\u001b[0;31mValueError\u001b[0m: invalid literal for int() with base 10: 'abc'"
     ]
    }
   ],
   "source": [
    "x = int('abc')"
   ]
  },
  {
   "cell_type": "markdown",
   "metadata": {
    "slideshow": {
     "slide_type": "slide"
    }
   },
   "source": [
    "##### Dicas de pista\n",
    "- Nem sempre um erro de valor decorre de um erro de programação.  \n",
    "Veja se o usuário não digitou algum valor incompatível.  \n",
    "Para evitar isso...\n",
    "  - Comente seu programa, indicando o propósito e o escopo das variáveis.\n",
    "  - Use nomes adequados para suas variáveis.\n",
    "  - Indique os valores aceitáveis nos comandos de entrada.\n",
    "  - Critique os valores digitados pelo usuário... mas ainda não temos as ferramentas necessárias para isso..."
   ]
  },
  {
   "cell_type": "markdown",
   "metadata": {
    "slideshow": {
     "slide_type": "slide"
    }
   },
   "source": [
    "Veja de quantas formas você consegue \"quebrar\" este programa, digitando valores inaceitáveis."
   ]
  },
  {
   "cell_type": "code",
   "execution_count": null,
   "metadata": {
    "slideshow": {
     "slide_type": "fragment"
    }
   },
   "outputs": [],
   "source": [
    "hora_str = input(\"Que horas são? \")\n",
    "hora_int = int(hora_str)\n",
    "\n",
    "espera_str = input(\"Quantas horas você vai esperar? \")\n",
    "espera_int = int(espera_str)\n",
    "\n",
    "alarme_int = hora_int + espera_int\n",
    "print(\"O alarme vai tocar às\", alarme_int)"
   ]
  },
  {
   "cell_type": "markdown",
   "metadata": {
    "slideshow": {
     "slide_type": "slide"
    }
   },
   "source": [
    "## Exemplo 3\n",
    "Quantos dias, horas, minutos e segundos há num dado número de segundos?"
   ]
  },
  {
   "cell_type": "markdown",
   "metadata": {
    "slideshow": {
     "slide_type": "subslide"
    }
   },
   "source": [
    "**Como resolver este problema?**"
   ]
  },
  {
   "cell_type": "code",
   "execution_count": null,
   "metadata": {
    "slideshow": {
     "slide_type": "fragment"
    }
   },
   "outputs": [],
   "source": [
    "# Ler o número de segundos a serem convertidos\n",
    "s = \n",
    "ss = s"
   ]
  },
  {
   "cell_type": "code",
   "execution_count": null,
   "metadata": {
    "slideshow": {
     "slide_type": "skip"
    }
   },
   "outputs": [],
   "source": [
    "# Ler o número de segundos a serem convertidos\n",
    "s = \n",
    "ss = s"
   ]
  },
  {
   "cell_type": "code",
   "execution_count": null,
   "metadata": {
    "slideshow": {
     "slide_type": "fragment"
    }
   },
   "outputs": [],
   "source": [
    "# Calcular algumas constantes úteis\n",
    "sm = \n",
    "sh = \n",
    "sd = "
   ]
  },
  {
   "cell_type": "code",
   "execution_count": null,
   "metadata": {
    "slideshow": {
     "slide_type": "skip"
    }
   },
   "outputs": [],
   "source": [
    "# Calcular algumas constantes úteis\n",
    "sm = \n",
    "sh = \n",
    "sd = "
   ]
  },
  {
   "cell_type": "code",
   "execution_count": null,
   "metadata": {
    "slideshow": {
     "slide_type": "fragment"
    }
   },
   "outputs": [],
   "source": [
    "# Calcular o número equivalente de dias, horas, minutos e segundos\n",
    "\n",
    "\n",
    "\n",
    "\n",
    "\n"
   ]
  },
  {
   "cell_type": "code",
   "execution_count": null,
   "metadata": {
    "slideshow": {
     "slide_type": "skip"
    }
   },
   "outputs": [],
   "source": [
    "# Calcular o número equivalente de dias, horas, minutos e segundos\n",
    "\n",
    "\n",
    "\n",
    "\n",
    "\n"
   ]
  },
  {
   "cell_type": "code",
   "execution_count": null,
   "metadata": {
    "slideshow": {
     "slide_type": "fragment"
    }
   },
   "outputs": [],
   "source": [
    "# Exibir o resultado\n",
    "print()"
   ]
  },
  {
   "cell_type": "code",
   "execution_count": null,
   "metadata": {
    "slideshow": {
     "slide_type": "skip"
    }
   },
   "outputs": [],
   "source": [
    "# Exibir o resultado\n",
    "print()"
   ]
  },
  {
   "cell_type": "code",
   "execution_count": null,
   "metadata": {
    "slideshow": {
     "slide_type": "skip"
    }
   },
   "outputs": [],
   "source": [
    "# Ler o número de segundos a serem convertidos\n",
    "segs = int(input('Qual o número de segundos que você quer converter? '))\n",
    "\n",
    "# Calcular algumas constantes úteis\n",
    "segs_num_minuto = 60\n",
    "segs_numa_hora = 60 * segs_num_minuto\n",
    "segs_num_dia = 24 * segs_numa_hora\n",
    "\n",
    "# Calcular o número equivalente de dias, horas, minutos e segundos\n",
    "dias = segs // segs_num_dia\n",
    "segs_restantes = segs % segs_no_dia\n",
    "\n",
    "horas = segs_restantes // segs_na_hora\n",
    "segs_restantes = segs_restantes % segs_na_hora\n",
    "\n",
    "minutos = segs_restantes // segs_no_minuto\n",
    "segs_restantes = segs_restantes % segs_no_minuto\n",
    "\n",
    "# Exibir o resultado\n",
    "print(segs, 'segundos =', dias, 'dia(s),', horas, 'hora(s),', \n",
    "      minutos, 'minuto(s) e', segs_restantes, 'segundo(s).')"
   ]
  },
  {
   "cell_type": "markdown",
   "metadata": {
    "slideshow": {
     "slide_type": "slide"
    }
   },
   "source": [
    "## Exemplo 4\n",
    "Quando uma pessoa empresta ou toma emprestado um certo capital, no regime de juros compostos, os juros de cada período são somados ao capital para o cálculo de novos juros nos períodos seguintes. Nesse caso, o valor da dívida é sempre corrigido e a taxa de juros é calculada sobre esse novo valor. A fórmula de juros compostos pode ser escrita como\n",
    "${\\normalsize V_f = V_p \\left( 1 + \\frac{j}{n} \\right)^{nt} }$, onde\n",
    "- $V_{f}:$ Valor Futuro\n",
    "- $V_{p}:$ Valor Presente\n",
    "- $j:$ taxa de juros anual nominal\n",
    "- $n:$ número de vezes em que o juro é capitalizado por ano\n",
    "- $t:$ número de anos  "
   ]
  },
  {
   "cell_type": "markdown",
   "metadata": {
    "slideshow": {
     "slide_type": "subslide"
    }
   },
   "source": [
    "Escreva um programa Python que atribua o valor principal de 10000 à variável $P$, atribua a $n$ o valor 12 e atribua a $j$ uma taxa de juros de 8% (0.08). \n",
    "\n",
    "Depois, peça ao usuário o número de anos, $t$, ao final do qual ocorrerá o pagamento. \n",
    "\n",
    "Calcule e exiba o valor final após $t$ anos."
   ]
  },
  {
   "cell_type": "code",
   "execution_count": null,
   "metadata": {},
   "outputs": [],
   "source": [
    "P =\n",
    "n =\n",
    "j = \n",
    "\n",
    "t = \n",
    "\n",
    "F = \n",
    "\n",
    "print()"
   ]
  },
  {
   "cell_type": "code",
   "execution_count": null,
   "metadata": {
    "slideshow": {
     "slide_type": "skip"
    }
   },
   "outputs": [],
   "source": [
    "P =\n",
    "n =\n",
    "j = \n",
    "\n",
    "t = \n",
    "\n",
    "F = \n",
    "\n",
    "print()"
   ]
  },
  {
   "cell_type": "code",
   "execution_count": null,
   "metadata": {
    "slideshow": {
     "slide_type": "skip"
    }
   },
   "outputs": [],
   "source": [
    "P = 10000\n",
    "n = 12\n",
    "j = 0.08\n",
    "\n",
    "t = int(input(\"Compor juros durante quantos anos? (>= 0) \"))\n",
    "\n",
    "F = P * (1 + j / n) ** (n * t)\n",
    "F = int(100 * F + 0.5) / 100\n",
    "\n",
    "print (\"O valor do capital após\", t, \"anos é\", F)"
   ]
  }
 ],
 "metadata": {
  "celltoolbar": "Slideshow",
  "kernelspec": {
   "display_name": "Python 3",
   "language": "python",
   "name": "python3"
  },
  "language_info": {
   "codemirror_mode": {
    "name": "ipython",
    "version": 3
   },
   "file_extension": ".py",
   "mimetype": "text/x-python",
   "name": "python",
   "nbconvert_exporter": "python",
   "pygments_lexer": "ipython3",
   "version": "3.6.4"
  },
  "toc": {
   "nav_menu": {},
   "number_sections": false,
   "sideBar": true,
   "skip_h1_title": false,
   "title_cell": "Table of Contents",
   "title_sidebar": "Contents",
   "toc_cell": false,
   "toc_position": {},
   "toc_section_display": true,
   "toc_window_display": false
  },
  "varInspector": {
   "cols": {
    "lenName": 16,
    "lenType": 16,
    "lenVar": 40
   },
   "kernels_config": {
    "python": {
     "delete_cmd_postfix": "",
     "delete_cmd_prefix": "del ",
     "library": "var_list.py",
     "varRefreshCmd": "print(var_dic_list())"
    },
    "r": {
     "delete_cmd_postfix": ") ",
     "delete_cmd_prefix": "rm(",
     "library": "var_list.r",
     "varRefreshCmd": "cat(var_dic_list()) "
    }
   },
   "types_to_exclude": [
    "module",
    "function",
    "builtin_function_or_method",
    "instance",
    "_Feature"
   ],
   "window_display": false
  }
 },
 "nbformat": 4,
 "nbformat_minor": 2
}
